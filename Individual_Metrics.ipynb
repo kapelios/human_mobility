{
 "cells": [
  {
   "cell_type": "code",
   "execution_count": 1,
   "id": "aerial-james",
   "metadata": {},
   "outputs": [
    {
     "name": "stdout",
     "output_type": "stream",
     "text": [
      "             datetime                               uid   dt1   dt2   dt3  \\\n",
      "0 2012-09-12 17:59:08  a841f74e620f74ec443b7a25d7569545  1.02  1.02  1.01   \n",
      "1 2012-09-12 17:59:14  a841f74e620f74ec443b7a25d7569545  1.02  1.03  1.02   \n",
      "2 2012-09-12 17:59:20  a841f74e620f74ec443b7a25d7569545  1.03  1.04  1.02   \n",
      "3 2012-09-12 17:59:27  a841f74e620f74ec443b7a25d7569545  1.02  1.01  1.04   \n",
      "4 2012-09-12 17:59:33  a841f74e620f74ec443b7a25d7569545  1.02  1.03  1.02   \n",
      "\n",
      "    dt4   dt5  rssi  rssi1  rssi2  ...  finalLongitude  horizontalAccuracy  \\\n",
      "0  1.02  1.02   -70    -69    -69  ...       24.027854                65.0   \n",
      "1  1.02  1.02   -70    -71    -71  ...       24.027854                65.0   \n",
      "2  1.04  1.02   -70    -71    -71  ...       24.027854                65.0   \n",
      "3  1.02  1.02   -70    -75    -79  ...       24.027854                65.0   \n",
      "4  1.02  1.02   -70    -85    -85  ...       24.027946                65.0   \n",
      "\n",
      "   isMoving  txPower   cellID    LAC  MNC  ARFCN  freq_dlink  freq_uplink  \n",
      "0       0.0     30.0  60567.0  312.0  1.0  787.0      1860.2       1765.2  \n",
      "1       0.0     30.0  60567.0  312.0  1.0  787.0      1860.2       1765.2  \n",
      "2       0.0     30.0  60567.0  312.0  1.0  787.0      1860.2       1765.2  \n",
      "3       0.0     30.0  60567.0  312.0  1.0  787.0      1860.2       1765.2  \n",
      "4       1.0     30.0  60567.0  312.0  1.0  787.0      1860.2       1765.2  \n",
      "\n",
      "[5 rows x 26 columns]\n",
      "Deleted 758 out of 445420\n"
     ]
    }
   ],
   "source": [
    "# DATASET LINK: http://www.mysignals.gr/research.php\n",
    "# Relative dataset path dataset\\dataset\\measurementsGSM_alldata_cells_6065x\n",
    "import os\n",
    "import skmob\n",
    "import pandas as pd\n",
    "from skmob.measures.individual import *\n",
    "import folium \n",
    "import geopandas as gpd\n",
    "from skmob.privacy import attacks\n",
    "from skmob.models.markov_diary_generator import MarkovDiaryGenerator\n",
    "from skmob.preprocessing import filtering, compression, detection, clustering\n",
    "\n",
    "\n",
    "dataset = \"Input\\\\Dataset.csv\"\n",
    "aliases_csv = \"Input\\\\aliases.csv\"\n",
    "outputDirectory = \"Output\"\n",
    "df = pd.read_csv(dataset, sep=\",\", header = 0)\n",
    "\n",
    "# names = ['timestamp','iPhoneUID','dt1','dt2','dt3','dt4','dt5','rssi','rssi1','rssi2','rssi3','rssi4','rssi5','latitude','longitude','finalLatitude','finalLongitude','horizontalAccuracy','isMoving','txPower','cellID','LAC','MNC','ARFCN','freq_dlink','freq_uplink']# dsl_df = distance_straight_line(tdf)\n",
    "# dsl_rog = radius_of_gyration(tdf)\n",
    "# dsl_lf = location_frequency(tdf)\n",
    "# dsl_jl = jump_lengths(tdf)\n",
    "# dsl_nol = number_of_locations(tdf)\n",
    "# print(dsl_df.head())\n",
    "# print(dsl_rog.head())\n",
    "# print(dsl_lf.head())\n",
    "# print(dsl_jl.head())\n",
    "# print(dsl_nol.head())\n",
    "# print(hl_df.head())\n",
    "\n",
    "\n",
    "# add all trajectories in a dataframe\n",
    "tdf = skmob.TrajDataFrame(df, latitude='latitude', longitude='longitude', datetime='timestamp', user_id='iPhoneUID')\n",
    "\n",
    "print(tdf.head())\n",
    "\n",
    "##########################################################\n",
    "# Data preprocessing\n",
    "\n",
    "# Filter the traj dataframe by removing consecutive locations with speed > 200 kmh\n",
    "filtered_tdf = filtering.filter(tdf, max_speed_kmh = 200)\n",
    "num_deleted_points = len(tdf) - len(filtered_tdf)\n",
    "\n",
    "print(\"Deleted\",num_deleted_points,\"out of\",len(tdf))"
   ]
  },
  {
   "cell_type": "code",
   "execution_count": 2,
   "id": "civic-publication",
   "metadata": {},
   "outputs": [],
   "source": [
    "unique_ids = filtered_tdf.uid.unique().tolist()\n"
   ]
  },
  {
   "cell_type": "code",
   "execution_count": 3,
   "id": "cardiovascular-edward",
   "metadata": {},
   "outputs": [
    {
     "name": "stdout",
     "output_type": "stream",
     "text": [
      "9\n",
      "['1e33db5d2be36268b944359fbdbdad21', '22223276ea84bbce3a62073c164391fd', '510635002cb29804d54bff664cab52be', '6882f6cf8c72d6324ba7e6bb42c9c7c2', '7023889b4439d2c02977ba152d6f4c6e', '7cbc37da05801d46e7d80c3b99fd5adb', '8425a81da55ec16b7f9f80c139c235a2', '892d2c3aae6e51f23bf8666c2314b52f', 'a841f74e620f74ec443b7a25d7569545']\n"
     ]
    }
   ],
   "source": [
    "print(len(unique_ids))\n",
    "print(unique_ids)"
   ]
  },
  {
   "cell_type": "code",
   "execution_count": 4,
   "id": "naked-madness",
   "metadata": {},
   "outputs": [
    {
     "name": "stdout",
     "output_type": "stream",
     "text": [
      "             datetime                               uid   dt1   dt2   dt3  \\\n",
      "0 2013-04-03 18:28:22  1e33db5d2be36268b944359fbdbdad21  1.02  1.05  1.02   \n",
      "1 2013-04-03 18:28:29  1e33db5d2be36268b944359fbdbdad21  1.06  1.07  1.08   \n",
      "2 2013-04-03 18:36:55  1e33db5d2be36268b944359fbdbdad21  1.02  1.03  1.02   \n",
      "3 2013-04-03 18:37:01  1e33db5d2be36268b944359fbdbdad21  1.05  1.12  1.08   \n",
      "4 2013-04-03 18:37:08  1e33db5d2be36268b944359fbdbdad21  1.02  1.03  1.02   \n",
      "\n",
      "    dt4   dt5  rssi  rssi1  rssi2  ...  finalLongitude  horizontalAccuracy  \\\n",
      "0  1.02  1.03   -81    -81    -79  ...       24.067551               100.0   \n",
      "1  1.02  1.02   -81    -79    -75  ...       23.920956               100.0   \n",
      "2  1.03  1.02   -79    -73    -73  ...       24.019675              1414.0   \n",
      "3  1.02  1.03   -79    -75    -77  ...       24.019675              1414.0   \n",
      "4  1.03  1.02   -79    -81    -81  ...       24.019675              1414.0   \n",
      "\n",
      "   isMoving  txPower   cellID    LAC  MNC  ARFCN  freq_dlink  freq_uplink  \n",
      "0       0.0   -255.0  60561.0  312.0  1.0  794.0      1861.6       1766.6  \n",
      "1       1.0   -255.0  60561.0  312.0  1.0  794.0      1861.6       1766.6  \n",
      "2       0.0   -255.0  60565.0  312.0  1.0  869.0      1876.6       1781.6  \n",
      "3       0.0   -255.0  60565.0  312.0  1.0  869.0      1876.6       1781.6  \n",
      "4       0.0   -255.0  60565.0  312.0  1.0  869.0      1876.6       1781.6  \n",
      "\n",
      "[5 rows x 26 columns]\n",
      "uid\n",
      "1e33db5d2be36268b944359fbdbdad21     51372\n",
      "22223276ea84bbce3a62073c164391fd    144219\n",
      "6882f6cf8c72d6324ba7e6bb42c9c7c2     69361\n",
      "7023889b4439d2c02977ba152d6f4c6e       838\n",
      "7cbc37da05801d46e7d80c3b99fd5adb     84475\n",
      "8425a81da55ec16b7f9f80c139c235a2       537\n",
      "892d2c3aae6e51f23bf8666c2314b52f     25419\n",
      "a841f74e620f74ec443b7a25d7569545     68439\n",
      "dtype: int64\n"
     ]
    }
   ],
   "source": [
    "group_tdf = filtered_tdf.groupby(['uid']).size()\n",
    "# print(group_tdf)\n",
    "out_group_tdf_path = os.path.join(outputDirectory,\"uid_count.csv\")\n",
    "temp = pd.DataFrame(group_tdf, columns =['count'])\n",
    "temp.to_csv(out_group_tdf_path)\n",
    "\n",
    "filtered_tdf = filtered_tdf[filtered_tdf['uid'] != \"510635002cb29804d54bff664cab52be\"]\n",
    "\n",
    "print(filtered_tdf.head())\n",
    "group_tdf = filtered_tdf.groupby(['uid']).size()\n",
    "print(group_tdf)"
   ]
  },
  {
   "cell_type": "code",
   "execution_count": 5,
   "id": "sporting-chapter",
   "metadata": {},
   "outputs": [
    {
     "name": "stdout",
     "output_type": "stream",
     "text": [
      "             datetime       uid   dt1   dt2   dt3   dt4   dt5  rssi  rssi1  \\\n",
      "0 2013-04-03 18:28:22  device_1  1.02  1.05  1.02  1.02  1.03   -81    -81   \n",
      "1 2013-04-03 18:28:29  device_1  1.06  1.07  1.08  1.02  1.02   -81    -79   \n",
      "2 2013-04-03 18:36:55  device_1  1.02  1.03  1.02  1.03  1.02   -79    -73   \n",
      "3 2013-04-03 18:37:01  device_1  1.05  1.12  1.08  1.02  1.03   -79    -75   \n",
      "4 2013-04-03 18:37:08  device_1  1.02  1.03  1.02  1.03  1.02   -79    -81   \n",
      "\n",
      "   rssi2  ...  finalLongitude  horizontalAccuracy  isMoving  txPower   cellID  \\\n",
      "0    -79  ...       24.067551               100.0       0.0   -255.0  60561.0   \n",
      "1    -75  ...       23.920956               100.0       1.0   -255.0  60561.0   \n",
      "2    -73  ...       24.019675              1414.0       0.0   -255.0  60565.0   \n",
      "3    -77  ...       24.019675              1414.0       0.0   -255.0  60565.0   \n",
      "4    -81  ...       24.019675              1414.0       0.0   -255.0  60565.0   \n",
      "\n",
      "     LAC  MNC  ARFCN  freq_dlink  freq_uplink  \n",
      "0  312.0  1.0  794.0      1861.6       1766.6  \n",
      "1  312.0  1.0  794.0      1861.6       1766.6  \n",
      "2  312.0  1.0  869.0      1876.6       1781.6  \n",
      "3  312.0  1.0  869.0      1876.6       1781.6  \n",
      "4  312.0  1.0  869.0      1876.6       1781.6  \n",
      "\n",
      "[5 rows x 26 columns]\n"
     ]
    }
   ],
   "source": [
    "# aliases = pd.read_csv(aliases_csv)\n",
    "# print(aliases.head())\n",
    "# aliases = aliases.set_index('uid')\n",
    "# print(aliases.head())\n",
    "# # aliases = aliases.T\n",
    "# # print(aliases.head())\n",
    "# dict_alias = aliases.to_dict()\n",
    "# print(dict_alias)\n",
    "\n",
    "filtered_tdf = filtered_tdf.replace({'1e33db5d2be36268b944359fbdbdad21': 'device_1', '22223276ea84bbce3a62073c164391fd': 'device_2', '6882f6cf8c72d6324ba7e6bb42c9c7c2': 'device_3', '7023889b4439d2c02977ba152d6f4c6e': 'device_4', '7cbc37da05801d46e7d80c3b99fd5adb': 'device_5', '8425a81da55ec16b7f9f80c139c235a2': 'device_6', '892d2c3aae6e51f23bf8666c2314b52f': 'device_7', 'a841f74e620f74ec443b7a25d7569545': 'device_8'})\n",
    "print(filtered_tdf.head())"
   ]
  },
  {
   "cell_type": "code",
   "execution_count": 6,
   "id": "passing-violin",
   "metadata": {},
   "outputs": [
    {
     "name": "stderr",
     "output_type": "stream",
     "text": [
      "100%|████████████████████████████████████████████████████████████████████| 8/8 [00:02<00:00,  2.69it/s]"
     ]
    },
    {
     "name": "stdout",
     "output_type": "stream",
     "text": [
      "        uid  radius_of_gyration\n",
      "0  device_1            0.045383\n",
      "1  device_2            0.258592\n",
      "2  device_3            0.088066\n",
      "3  device_4            0.064525\n",
      "4  device_5            0.668691\n",
      "5  device_6            0.288058\n",
      "6  device_7            0.018628\n",
      "7  device_8            0.478493\n"
     ]
    },
    {
     "name": "stderr",
     "output_type": "stream",
     "text": [
      "\n"
     ]
    }
   ],
   "source": [
    "\n",
    "# Calculate radius of gyration\n",
    "dsl_rog = radius_of_gyration(filtered_tdf)\n",
    "print(dsl_rog.head(100))\n",
    "out_dsl_path = os.path.join(outputDirectory,\"radius_of_gyration.csv\")\n",
    "dsl_rog.to_csv(out_dsl_path, index = False)"
   ]
  },
  {
   "cell_type": "code",
   "execution_count": 7,
   "id": "varied-triumph",
   "metadata": {},
   "outputs": [
    {
     "name": "stderr",
     "output_type": "stream",
     "text": [
      " 25%|█████████████████                                                   | 2/8 [00:00<00:00, 18.87it/s]"
     ]
    },
    {
     "name": "stdout",
     "output_type": "stream",
     "text": [
      "|"
     ]
    },
    {
     "name": "stderr",
     "output_type": "stream",
     "text": [
      "100%|████████████████████████████████████████████████████████████████████| 8/8 [00:00<00:00, 12.34it/s]\n",
      " 25%|█████████████████                                                   | 2/8 [00:00<00:00, 18.70it/s]"
     ]
    },
    {
     "name": "stdout",
     "output_type": "stream",
     "text": [
      "|"
     ]
    },
    {
     "name": "stderr",
     "output_type": "stream",
     "text": [
      "100%|████████████████████████████████████████████████████████████████████| 8/8 [00:00<00:00, 11.89it/s]\n",
      " 25%|█████████████████                                                   | 2/8 [00:00<00:00, 17.40it/s]"
     ]
    },
    {
     "name": "stdout",
     "output_type": "stream",
     "text": [
      "|"
     ]
    },
    {
     "name": "stderr",
     "output_type": "stream",
     "text": [
      "100%|████████████████████████████████████████████████████████████████████| 8/8 [00:00<00:00, 12.37it/s]\n",
      " 25%|█████████████████                                                   | 2/8 [00:00<00:00, 17.10it/s]"
     ]
    },
    {
     "name": "stdout",
     "output_type": "stream",
     "text": [
      "|"
     ]
    },
    {
     "name": "stderr",
     "output_type": "stream",
     "text": [
      "100%|████████████████████████████████████████████████████████████████████| 8/8 [00:00<00:00, 12.02it/s]\n",
      " 25%|█████████████████                                                   | 2/8 [00:00<00:00, 19.61it/s]"
     ]
    },
    {
     "name": "stdout",
     "output_type": "stream",
     "text": [
      "|"
     ]
    },
    {
     "name": "stderr",
     "output_type": "stream",
     "text": [
      "100%|████████████████████████████████████████████████████████████████████| 8/8 [00:00<00:00, 12.28it/s]\n",
      " 25%|█████████████████                                                   | 2/8 [00:00<00:00, 16.75it/s]"
     ]
    },
    {
     "name": "stdout",
     "output_type": "stream",
     "text": [
      "|"
     ]
    },
    {
     "name": "stderr",
     "output_type": "stream",
     "text": [
      "100%|████████████████████████████████████████████████████████████████████| 8/8 [00:00<00:00, 12.34it/s]\n",
      " 25%|█████████████████                                                   | 2/8 [00:00<00:00, 17.81it/s]"
     ]
    },
    {
     "name": "stdout",
     "output_type": "stream",
     "text": [
      "|"
     ]
    },
    {
     "name": "stderr",
     "output_type": "stream",
     "text": [
      "100%|████████████████████████████████████████████████████████████████████| 8/8 [00:00<00:00, 12.17it/s]\n",
      " 25%|█████████████████                                                   | 2/8 [00:00<00:00, 19.24it/s]"
     ]
    },
    {
     "name": "stdout",
     "output_type": "stream",
     "text": [
      "|"
     ]
    },
    {
     "name": "stderr",
     "output_type": "stream",
     "text": [
      "100%|████████████████████████████████████████████████████████████████████| 8/8 [00:00<00:00, 11.73it/s]\n",
      " 25%|█████████████████                                                   | 2/8 [00:00<00:00, 16.13it/s]"
     ]
    },
    {
     "name": "stdout",
     "output_type": "stream",
     "text": [
      "|"
     ]
    },
    {
     "name": "stderr",
     "output_type": "stream",
     "text": [
      "100%|████████████████████████████████████████████████████████████████████| 8/8 [00:00<00:00, 11.94it/s]\n",
      " 25%|█████████████████                                                   | 2/8 [00:00<00:00, 16.27it/s]"
     ]
    },
    {
     "name": "stdout",
     "output_type": "stream",
     "text": [
      "|"
     ]
    },
    {
     "name": "stderr",
     "output_type": "stream",
     "text": [
      "100%|████████████████████████████████████████████████████████████████████| 8/8 [00:00<00:00, 11.96it/s]\n",
      " 25%|█████████████████                                                   | 2/8 [00:00<00:00, 17.77it/s]"
     ]
    },
    {
     "name": "stdout",
     "output_type": "stream",
     "text": [
      "|"
     ]
    },
    {
     "name": "stderr",
     "output_type": "stream",
     "text": [
      "100%|████████████████████████████████████████████████████████████████████| 8/8 [00:00<00:00, 11.97it/s]\n",
      " 25%|█████████████████                                                   | 2/8 [00:00<00:00, 18.87it/s]"
     ]
    },
    {
     "name": "stdout",
     "output_type": "stream",
     "text": [
      "|"
     ]
    },
    {
     "name": "stderr",
     "output_type": "stream",
     "text": [
      "100%|████████████████████████████████████████████████████████████████████| 8/8 [00:00<00:00, 12.36it/s]\n",
      " 25%|█████████████████                                                   | 2/8 [00:00<00:00, 18.02it/s]"
     ]
    },
    {
     "name": "stdout",
     "output_type": "stream",
     "text": [
      "|"
     ]
    },
    {
     "name": "stderr",
     "output_type": "stream",
     "text": [
      "100%|████████████████████████████████████████████████████████████████████| 8/8 [00:00<00:00, 12.07it/s]\n",
      " 25%|█████████████████                                                   | 2/8 [00:00<00:00, 17.55it/s]"
     ]
    },
    {
     "name": "stdout",
     "output_type": "stream",
     "text": [
      "|"
     ]
    },
    {
     "name": "stderr",
     "output_type": "stream",
     "text": [
      "100%|████████████████████████████████████████████████████████████████████| 8/8 [00:00<00:00, 11.96it/s]\n",
      "  0%|                                                                            | 0/8 [00:00<?, ?it/s]"
     ]
    },
    {
     "name": "stdout",
     "output_type": "stream",
     "text": [
      "|"
     ]
    },
    {
     "name": "stderr",
     "output_type": "stream",
     "text": [
      "100%|████████████████████████████████████████████████████████████████████| 8/8 [00:00<00:00, 12.91it/s]\n",
      " 25%|█████████████████                                                   | 2/8 [00:00<00:00, 17.55it/s]"
     ]
    },
    {
     "name": "stdout",
     "output_type": "stream",
     "text": [
      "|"
     ]
    },
    {
     "name": "stderr",
     "output_type": "stream",
     "text": [
      "100%|████████████████████████████████████████████████████████████████████| 8/8 [00:00<00:00, 12.95it/s]\n",
      " 25%|█████████████████                                                   | 2/8 [00:00<00:00, 18.02it/s]"
     ]
    },
    {
     "name": "stdout",
     "output_type": "stream",
     "text": [
      "|"
     ]
    },
    {
     "name": "stderr",
     "output_type": "stream",
     "text": [
      "100%|████████████████████████████████████████████████████████████████████| 8/8 [00:00<00:00, 12.38it/s]\n",
      " 25%|█████████████████                                                   | 2/8 [00:00<00:00, 19.91it/s]"
     ]
    },
    {
     "name": "stdout",
     "output_type": "stream",
     "text": [
      "|"
     ]
    },
    {
     "name": "stderr",
     "output_type": "stream",
     "text": [
      "100%|████████████████████████████████████████████████████████████████████| 8/8 [00:00<00:00, 12.90it/s]\n",
      " 25%|█████████████████                                                   | 2/8 [00:00<00:00, 18.02it/s]"
     ]
    },
    {
     "name": "stdout",
     "output_type": "stream",
     "text": [
      "|"
     ]
    },
    {
     "name": "stderr",
     "output_type": "stream",
     "text": [
      "100%|████████████████████████████████████████████████████████████████████| 8/8 [00:00<00:00, 12.73it/s]"
     ]
    },
    {
     "name": "stdout",
     "output_type": "stream",
     "text": [
      "\n"
     ]
    },
    {
     "name": "stderr",
     "output_type": "stream",
     "text": [
      "\n"
     ]
    }
   ],
   "source": [
    "# Calculate k-radius of gyration\n",
    "for k in range(2,21):\n",
    "    print(\"|\",end=\"\")\n",
    "    dsl_krog = k_radius_of_gyration(filtered_tdf, k)\n",
    "    # print(dsl_krog.head(100))\n",
    "    out_dsl_path = os.path.join(outputDirectory,\"k_rog\",str(k)+\"k_radius_of_gyration.csv\")\n",
    "    dsl_krog.to_csv(out_dsl_path, index = False)\n",
    "print()"
   ]
  },
  {
   "cell_type": "code",
   "execution_count": 8,
   "id": "periodic-gilbert",
   "metadata": {},
   "outputs": [
    {
     "name": "stderr",
     "output_type": "stream",
     "text": [
      "100%|████████████████████████████████████████████████████████████████████| 8/8 [00:03<00:00,  2.60it/s]"
     ]
    },
    {
     "name": "stdout",
     "output_type": "stream",
     "text": [
      "        uid  maximum_distance\n",
      "0  device_1          4.424816\n",
      "1  device_2          3.389703\n",
      "2  device_3          1.633196\n",
      "3  device_4          0.735761\n",
      "4  device_5          2.453889\n",
      "5  device_6          1.138429\n",
      "6  device_7          0.283213\n",
      "7  device_8          5.719505\n"
     ]
    },
    {
     "name": "stderr",
     "output_type": "stream",
     "text": [
      "\n"
     ]
    }
   ],
   "source": [
    "\n",
    "# Calculate max distance\n",
    "dsl_md = maximum_distance(filtered_tdf)\n",
    "print(dsl_md.head(100))\n",
    "out_dsl_path = os.path.join(outputDirectory,\"max_distance.csv\")\n",
    "dsl_md.to_csv(out_dsl_path, index = False)"
   ]
  },
  {
   "cell_type": "code",
   "execution_count": 9,
   "id": "abroad-uniform",
   "metadata": {},
   "outputs": [
    {
     "name": "stderr",
     "output_type": "stream",
     "text": [
      "100%|████████████████████████████████████████████████████████████████████| 8/8 [00:01<00:00,  6.45it/s]"
     ]
    },
    {
     "name": "stdout",
     "output_type": "stream",
     "text": [
      "        uid  number_of_locations\n",
      "0  device_1                   71\n",
      "1  device_2                 2114\n",
      "2  device_3                   22\n",
      "3  device_4                  124\n",
      "4  device_5                 1457\n",
      "5  device_6                  173\n",
      "6  device_7                   13\n",
      "7  device_8                 5711\n"
     ]
    },
    {
     "name": "stderr",
     "output_type": "stream",
     "text": [
      "\n"
     ]
    }
   ],
   "source": [
    "\n",
    "# Calculate distinct locations\n",
    "dsl_dl = number_of_locations(filtered_tdf)\n",
    "print(dsl_dl.head(100))\n",
    "out_dsl_path = os.path.join(outputDirectory,\"number_of_locations.csv\")\n",
    "dsl_dl.to_csv(out_dsl_path, index = False)"
   ]
  },
  {
   "cell_type": "code",
   "execution_count": 10,
   "id": "lightweight-allocation",
   "metadata": {},
   "outputs": [
    {
     "name": "stderr",
     "output_type": "stream",
     "text": [
      "100%|████████████████████████████████████████████████████████████████████| 8/8 [00:00<00:00, 33.07it/s]"
     ]
    },
    {
     "name": "stdout",
     "output_type": "stream",
     "text": [
      "        uid        lat        lng  location_frequency\n",
      "0  device_1  35.511199  24.023398                9776\n",
      "1  device_1  35.511223  24.023541                4464\n",
      "2  device_1  35.511253  24.023679                3765\n",
      "3  device_1  35.511236  24.023560                3441\n",
      "4  device_1  35.511266  24.023598                3354\n",
      "5  device_1  35.511215  24.023512                2698\n",
      "6  device_1  35.511261  24.023505                1836\n",
      "7  device_1  35.511302  24.023675                1758\n",
      "8  device_1  35.511273  24.023577                1673\n",
      "9  device_1  35.511262  24.023754                1524\n"
     ]
    },
    {
     "name": "stderr",
     "output_type": "stream",
     "text": [
      "\n"
     ]
    }
   ],
   "source": [
    "\n",
    "# Calculate location frequency\n",
    "lf_df = location_frequency(filtered_tdf, normalize = False).reset_index()\n",
    "print(lf_df.head(10))\n",
    "out_dsl_path = os.path.join(outputDirectory,\"location_frequency.csv\")\n",
    "lf_df.to_csv(out_dsl_path, index = False)"
   ]
  },
  {
   "cell_type": "code",
   "execution_count": 11,
   "id": "finite-library",
   "metadata": {},
   "outputs": [
    {
     "name": "stderr",
     "output_type": "stream",
     "text": [
      "100%|████████████████████████████████████████████████████████████████████| 8/8 [00:00<00:00, 30.90it/s]"
     ]
    },
    {
     "name": "stdout",
     "output_type": "stream",
     "text": [
      "                  lat        lng  frequency_rank\n",
      "uid                                             \n",
      "device_1 0  35.511199  24.023398               1\n",
      "         1  35.511223  24.023541               2\n",
      "         2  35.511253  24.023679               3\n",
      "         3  35.511236  24.023560               4\n",
      "         4  35.511266  24.023598               5\n",
      "         5  35.511215  24.023512               6\n",
      "         6  35.511261  24.023505               7\n",
      "         7  35.511302  24.023675               8\n",
      "         8  35.511273  24.023577               9\n",
      "         9  35.511262  24.023754              10\n"
     ]
    },
    {
     "name": "stderr",
     "output_type": "stream",
     "text": [
      "\n"
     ]
    }
   ],
   "source": [
    "# Calculate frequency rank\n",
    "fr_df = frequency_rank(filtered_tdf)\n",
    "print(fr_df.head(10))\n",
    "out_dsl_path = os.path.join(outputDirectory,\"frequency_rank.csv\")\n",
    "fr_df.to_csv(out_dsl_path)"
   ]
  },
  {
   "cell_type": "code",
   "execution_count": 12,
   "id": "nonprofit-cancellation",
   "metadata": {},
   "outputs": [
    {
     "name": "stdout",
     "output_type": "stream",
     "text": [
      "\n",
      "days,hours,msd\n",
      "0,0,3.0862160590423033\n",
      "0,1,3.0862160590423033\n",
      "0,2,3.0862160590423033\n",
      "0,3,3.0862160590423033\n",
      "0,4,3.0862160590423033\n",
      "0,5,3.0862160590423033\n",
      "0,6,3.0862160590423033\n",
      "0,7,3.0862160590423033\n",
      "0,8,3.0862160590423033\n",
      "0,9,3.0862160590423033\n",
      "0,10,3.0862160590423033\n",
      "0,11,3.0862160590423033\n",
      "0,12,3.0862160590423033\n",
      "0,13,3.0862160590423033\n",
      "0,14,3.0862160590423033\n",
      "0,15,3.0862160590423033\n",
      "0,16,3.0862160590423033\n",
      "0,17,3.0862160590423033\n",
      "0,18,3.0862160590423033\n",
      "0,19,3.0862160590423033\n",
      "0,20,3.0862160590423033\n",
      "0,21,3.0862160590423033\n",
      "0,22,3.0862160590423033\n",
      "0,23,3.0862160590423033\n",
      "\n"
     ]
    }
   ],
   "source": [
    "# Mean square displacement\n",
    "import skmob\n",
    "from skmob.measures.collective import mean_square_displacement\n",
    "msd = \"days,hours,msd\\n\"\n",
    "for days in range(1):\n",
    "    for hours in range(24):\n",
    "        temp = mean_square_displacement(filtered_tdf, days = 0, hours = 1, minutes = 0, show_progress=False)\n",
    "        msd += str(days)+\",\"+str(hours)+\",\"+str(temp)+\"\\n\"\n",
    "    print()\n",
    "print(msd)\n",
    "msd_file_path = os.path.join(outputDirectory,\"msd.csv\")\n",
    "msd_file = open(msd_file_path, \"w\")\n",
    "msd_file.write(msd)\n",
    "msd_file.close()"
   ]
  },
  {
   "cell_type": "code",
   "execution_count": 13,
   "id": "turned-arizona",
   "metadata": {},
   "outputs": [
    {
     "name": "stderr",
     "output_type": "stream",
     "text": [
      "100%|████████████████████████████████████████████████████████████████████| 8/8 [00:01<00:00,  5.83it/s]"
     ]
    },
    {
     "name": "stdout",
     "output_type": "stream",
     "text": [
      "        uid  random_entropy\n",
      "0  device_1        6.149747\n",
      "1  device_2       11.045760\n",
      "2  device_3        4.459432\n",
      "3  device_4        6.954196\n",
      "4  device_5       10.508785\n"
     ]
    },
    {
     "name": "stderr",
     "output_type": "stream",
     "text": [
      "\n"
     ]
    }
   ],
   "source": [
    "# Random entropy\n",
    "import skmob\n",
    "from skmob.measures.individual import random_entropy\n",
    "\n",
    "re_df = random_entropy(filtered_tdf)\n",
    "print(re_df.head())\n",
    "re_df_path = os.path.join(outputDirectory,\"random_entropy.csv\")\n",
    "re_df.to_csv(re_df_path, index = False)"
   ]
  },
  {
   "cell_type": "code",
   "execution_count": 14,
   "id": "secondary-fundamental",
   "metadata": {},
   "outputs": [
    {
     "name": "stdout",
     "output_type": "stream",
     "text": [
      "        uid  risk\n",
      "0  device_1   1.0\n",
      "1  device_2   1.0\n",
      "2  device_3   1.0\n",
      "3  device_4   1.0\n",
      "4  device_5   1.0\n",
      "5  device_6   1.0\n",
      "6  device_7   1.0\n",
      "7  device_8   1.0\n"
     ]
    }
   ],
   "source": [
    "# Home and work attack\n",
    "\n",
    "import skmob\n",
    "from skmob.privacy import attacks\n",
    "from skmob.core.trajectorydataframe import TrajDataFrame\n",
    "\n",
    "at = attacks.HomeWorkAttack()\n",
    "r = at.assess_risk(filtered_tdf)\n",
    "print(r)\n",
    "\n",
    "hw_attack_path = os.path.join(outputDirectory,\"home_work_attack.csv\")\n",
    "r.to_csv(hw_attack_path, index = False)"
   ]
  },
  {
   "cell_type": "code",
   "execution_count": 15,
   "id": "bored-belfast",
   "metadata": {},
   "outputs": [
    {
     "name": "stdout",
     "output_type": "stream",
     "text": [
      "uid\n",
      "device_1     458\n",
      "device_2    2034\n",
      "device_3     914\n",
      "device_4      82\n",
      "device_5    1282\n",
      "dtype: int64\n"
     ]
    }
   ],
   "source": [
    "moving_tdf = filtered_tdf[filtered_tdf['isMoving'] == 1]\n",
    "# print(moving_tdf.head())\n",
    "moving_tdf = moving_tdf.groupby(['uid']).size()\n",
    "print(moving_tdf.head())\n",
    "# print(group_tdf)\n",
    "out_group_tdf_path = os.path.join(outputDirectory,\"moving_uid_count.csv\")\n",
    "temp = pd.DataFrame(moving_tdf, columns =['count'])\n",
    "temp.to_csv(out_group_tdf_path)"
   ]
  },
  {
   "cell_type": "code",
   "execution_count": 19,
   "id": "numeric-spare",
   "metadata": {},
   "outputs": [
    {
     "name": "stdout",
     "output_type": "stream",
     "text": [
      "             datetime       uid   dt1   dt2   dt3   dt4   dt5  rssi  rssi1  \\\n",
      "0 2013-04-08 11:00:04  device_1  1.01  1.03  1.02  1.02  1.02   -79    -75   \n",
      "1 2013-04-08 11:00:10  device_1  1.01  1.02  1.02  1.02  1.02   -79    -73   \n",
      "2 2013-04-08 11:00:16  device_1  1.02  1.02  1.02  1.02  1.02   -79    -73   \n",
      "3 2013-04-08 11:00:22  device_1  1.02  1.02  1.02  1.02  1.02   -79    -75   \n",
      "4 2013-04-08 11:00:29  device_1  1.02  1.02  1.02  1.02  1.02   -79    -73   \n",
      "\n",
      "   rssi2  ...  finalLongitude  horizontalAccuracy  isMoving  txPower   cellID  \\\n",
      "0    -75  ...       24.023598                65.0       0.0   -255.0  60562.0   \n",
      "1    -73  ...       24.023598                65.0       0.0   -255.0  60562.0   \n",
      "2    -75  ...       24.023598                65.0       0.0   -255.0  60562.0   \n",
      "3    -75  ...       24.023598                65.0       0.0   -255.0  60562.0   \n",
      "4    -73  ...       24.023598                65.0       0.0   -255.0  60562.0   \n",
      "\n",
      "     LAC  MNC  ARFCN  freq_dlink  freq_uplink  \n",
      "0  312.0  1.0  879.0      1878.6       1783.6  \n",
      "1  312.0  1.0  879.0      1878.6       1783.6  \n",
      "2  312.0  1.0  879.0      1878.6       1783.6  \n",
      "3  312.0  1.0  879.0      1878.6       1783.6  \n",
      "4  312.0  1.0  879.0      1878.6       1783.6  \n",
      "\n",
      "[5 rows x 26 columns]\n"
     ]
    }
   ],
   "source": [
    "import skmob\n",
    "import folium\n",
    "\n",
    "    return distance\n",
    "\n",
    "csv_Freq_rank = \"Output\\\\frequency_rank.csv\"\n",
    "\n",
    "# filtered_tdf\n",
    "hour_tdf = filtered_tdf\n",
    "hour_tdf = hour_tdf.set_index('datetime')\n",
    "hour_tdf = hour_tdf[hour_tdf.index.dayofweek < 5]\n",
    "hour_tdf= hour_tdf.between_time(\"11:00:00\",\"15:00:00\")\n",
    "hour_tdf = hour_tdf.reset_index()\n",
    "hour_tdf = hour_tdf.rename(columns={\"index\" : \"datetime\"})\n",
    "hour_tdf.to_csv(\"Output\\\\trajectories_hour_limited.csv\", index = False)\n",
    "print(hour_tdf.head())\n"
   ]
  },
  {
   "cell_type": "code",
   "execution_count": 23,
   "id": "current-reason",
   "metadata": {},
   "outputs": [
    {
     "name": "stderr",
     "output_type": "stream",
     "text": [
      "100%|███████████████████████████████████████████████████████████████████| 7/7 [00:00<00:00, 124.98it/s]"
     ]
    },
    {
     "name": "stdout",
     "output_type": "stream",
     "text": [
      "             datetime       uid   dt1   dt2   dt3   dt4   dt5  rssi  rssi1  \\\n",
      "0 2013-04-08 11:00:04  device_1  1.01  1.03  1.02  1.02  1.02   -79    -75   \n",
      "1 2013-04-08 11:00:10  device_1  1.01  1.02  1.02  1.02  1.02   -79    -73   \n",
      "2 2013-04-08 11:00:16  device_1  1.02  1.02  1.02  1.02  1.02   -79    -73   \n",
      "3 2013-04-08 11:00:22  device_1  1.02  1.02  1.02  1.02  1.02   -79    -75   \n",
      "4 2013-04-08 11:00:29  device_1  1.02  1.02  1.02  1.02  1.02   -79    -73   \n",
      "\n",
      "   rssi2  ...  finalLongitude  horizontalAccuracy  isMoving  txPower   cellID  \\\n",
      "0    -75  ...       24.023598                65.0       0.0   -255.0  60562.0   \n",
      "1    -73  ...       24.023598                65.0       0.0   -255.0  60562.0   \n",
      "2    -75  ...       24.023598                65.0       0.0   -255.0  60562.0   \n",
      "3    -75  ...       24.023598                65.0       0.0   -255.0  60562.0   \n",
      "4    -73  ...       24.023598                65.0       0.0   -255.0  60562.0   \n",
      "\n",
      "     LAC  MNC  ARFCN  freq_dlink  freq_uplink  \n",
      "0  312.0  1.0  879.0      1878.6       1783.6  \n",
      "1  312.0  1.0  879.0      1878.6       1783.6  \n",
      "2  312.0  1.0  879.0      1878.6       1783.6  \n",
      "3  312.0  1.0  879.0      1878.6       1783.6  \n",
      "4  312.0  1.0  879.0      1878.6       1783.6  \n",
      "\n",
      "[5 rows x 26 columns]\n",
      "                  lat        lng  frequency_rank\n",
      "uid                                             \n",
      "device_1 0  35.511199  24.023398               1\n",
      "         1  35.511223  24.023541               2\n",
      "         2  35.511236  24.023560               3\n",
      "         3  35.511331  24.023678               4\n",
      "         4  35.511265  24.023552               5\n"
     ]
    },
    {
     "name": "stderr",
     "output_type": "stream",
     "text": [
      "\n"
     ]
    }
   ],
   "source": [
    "# Calculate  frequency rank\n",
    "\n",
    "in_hour_tdf = skmob.TrajDataFrame(hour_tdf, latitude = 'lat', longitude = 'long', user_id = 'uid', datetime = 'datetime')\n",
    "\n",
    "print(in_hour_tdf.head())\n",
    "\n",
    "fr_df = frequency_rank(in_hour_tdf)\n",
    "# print(fr_df.head(10))\n",
    "out_dsl_path = os.path.join(outputDirectory,\"frequency_rank_work_hours.csv\")\n",
    "fr_df.to_csv(out_dsl_path)\n",
    "\n",
    "fr_df['frequency_rank']=fr_df['frequency_rank'].astype(int)\n",
    "# print(df.head())\n",
    "fr_df = fr_df.loc[fr_df['frequency_rank'] < 100]\n",
    "fr_df.to_csv(\"Output\\\\frequency_rank_work_hours_top3.csv\")\n",
    "print(fr_df.head())\n",
    "\n",
    "# frequency_rank = folium.Map(location=[35.5,24.0], zoom_start = 11)\n",
    "# for index, row in fr_df.iterrows():\n",
    "#     folium.Marker( location=[ row[1], row[2] ], fill_color='#43d9de', radius=8, popup=row[0]).add_to( frequency_rank )\n",
    "# # frequency_rank\n",
    "\n",
    "# # filtered_tdf"
   ]
  },
  {
   "cell_type": "code",
   "execution_count": null,
   "id": "junior-prison",
   "metadata": {},
   "outputs": [],
   "source": []
  },
  {
   "cell_type": "code",
   "execution_count": null,
   "id": "expired-whole",
   "metadata": {},
   "outputs": [],
   "source": []
  }
 ],
 "metadata": {
  "kernelspec": {
   "display_name": "Python [conda env: skmob]",
   "language": "python",
   "name": "skmob"
  },
  "language_info": {
   "codemirror_mode": {
    "name": "ipython",
    "version": 3
   },
   "file_extension": ".py",
   "mimetype": "text/x-python",
   "name": "python",
   "nbconvert_exporter": "python",
   "pygments_lexer": "ipython3",
   "version": "3.7.9"
  }
 },
 "nbformat": 4,
 "nbformat_minor": 5
}
