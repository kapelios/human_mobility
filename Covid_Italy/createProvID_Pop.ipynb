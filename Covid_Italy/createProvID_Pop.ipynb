{
 "metadata": {
  "language_info": {
   "codemirror_mode": {
    "name": "ipython",
    "version": 3
   },
   "file_extension": ".py",
   "mimetype": "text/x-python",
   "name": "python",
   "nbconvert_exporter": "python",
   "pygments_lexer": "ipython3",
   "version": "3.7.9-final"
  },
  "orig_nbformat": 2,
  "kernelspec": {
   "name": "skmob",
   "display_name": "Python [conda env: skmob]",
   "language": "python"
  }
 },
 "nbformat": 4,
 "nbformat_minor": 2,
 "cells": [
  {
   "cell_type": "code",
   "execution_count": 5,
   "metadata": {},
   "outputs": [
    {
     "output_type": "stream",
     "name": "stdout",
     "text": [
      "   index  COD_PROV SIGLA   DEN_PCM\n0      0         1    TO    Torino\n1      1         2    VC  Vercelli\n2      2         3    NO    Novara\n3      3         4    CN     Cuneo\n4      4         5    AT      Asti\n  Type     Province  ... Comuni                        President\n0    F    Agrigento  ...     43  Marcello Maisano (commissioner)\n1    O  Alessandria  ...    188     Gianfranco Lorenzo Baldi (R)\n2    O       Ancona  ...     47                Liana Serrani (L)\n3    D        Aosta  ...     74                                —\n4    O       Arezzo  ...     36                Roberto Vasai (L)\n\n[5 rows x 11 columns]\n"
     ]
    }
   ],
   "source": [
    "import pandas as pd\n",
    "in1 = \"input\\Italy_ProvincesID.csv\"\n",
    "in2 = \"input\\Italy_Provinces_Population.csv\"\n",
    "df1 = pd.read_csv(in1)\n",
    "print(df1.head())\n",
    "df2 = pd.read_csv(in2)\n",
    "print(df2.head())"
   ]
  },
  {
   "cell_type": "code",
   "execution_count": 25,
   "metadata": {},
   "outputs": [],
   "source": [
    "df3 = pd.merge(df1,df2,how=\"inner\", left_on=\"SIGLA\",right_on=\"Code\").rename(columns= {'Population (2019)[3]':'POPULATION'})\n",
    "df3 = df3[['index','COD_PROV','SIGLA','DEN_PCM','POPULATION']]\n",
    "df3['POPULATION'] = df3['POPULATION'].replace({\",\":\"\"}, regex = True)\n",
    "# print(df3.head())\n",
    "df3['POPULATION'] = df3['POPULATION'].astype(int)\n",
    "df3.columns = ['ID','prov_istat_code','SIGLA','prov_name','POPULATION']\n",
    "df3.to_csv(\"input\\Italy_ProvincesID_Population.csv\",index=False)\n",
    "# list(df3.columns) "
   ]
  },
  {
   "cell_type": "code",
   "execution_count": 13,
   "metadata": {},
   "outputs": [
    {
     "output_type": "execute_result",
     "data": {
      "text/plain": [
       "     index  COD_PROV SIGLA                DEN_PCM POPULATION\n",
       "0        0         1    TO                 Torino  2,259,523\n",
       "1        1         2    VC               Vercelli    170,911\n",
       "2        2         3    NO                 Novara    369,018\n",
       "3        3         4    CN                  Cuneo    587,089\n",
       "4        4         5    AT                   Asti    214,638\n",
       "..     ...       ...   ...                    ...        ...\n",
       "102    102       103    VB   Verbano-Cusio-Ossola    158,349\n",
       "103    103       108    MB  Monza e della Brianza    873,935\n",
       "104    104       109    FM                  Fermo    173,800\n",
       "105    105       110    BT  Barletta-Andria-Trani    390,011\n",
       "106    106       111    SU           Sud Sardegna    350,725\n",
       "\n",
       "[107 rows x 5 columns]"
      ],
      "text/html": "<div>\n<style scoped>\n    .dataframe tbody tr th:only-of-type {\n        vertical-align: middle;\n    }\n\n    .dataframe tbody tr th {\n        vertical-align: top;\n    }\n\n    .dataframe thead th {\n        text-align: right;\n    }\n</style>\n<table border=\"1\" class=\"dataframe\">\n  <thead>\n    <tr style=\"text-align: right;\">\n      <th></th>\n      <th>index</th>\n      <th>COD_PROV</th>\n      <th>SIGLA</th>\n      <th>DEN_PCM</th>\n      <th>POPULATION</th>\n    </tr>\n  </thead>\n  <tbody>\n    <tr>\n      <th>0</th>\n      <td>0</td>\n      <td>1</td>\n      <td>TO</td>\n      <td>Torino</td>\n      <td>2,259,523</td>\n    </tr>\n    <tr>\n      <th>1</th>\n      <td>1</td>\n      <td>2</td>\n      <td>VC</td>\n      <td>Vercelli</td>\n      <td>170,911</td>\n    </tr>\n    <tr>\n      <th>2</th>\n      <td>2</td>\n      <td>3</td>\n      <td>NO</td>\n      <td>Novara</td>\n      <td>369,018</td>\n    </tr>\n    <tr>\n      <th>3</th>\n      <td>3</td>\n      <td>4</td>\n      <td>CN</td>\n      <td>Cuneo</td>\n      <td>587,089</td>\n    </tr>\n    <tr>\n      <th>4</th>\n      <td>4</td>\n      <td>5</td>\n      <td>AT</td>\n      <td>Asti</td>\n      <td>214,638</td>\n    </tr>\n    <tr>\n      <th>...</th>\n      <td>...</td>\n      <td>...</td>\n      <td>...</td>\n      <td>...</td>\n      <td>...</td>\n    </tr>\n    <tr>\n      <th>102</th>\n      <td>102</td>\n      <td>103</td>\n      <td>VB</td>\n      <td>Verbano-Cusio-Ossola</td>\n      <td>158,349</td>\n    </tr>\n    <tr>\n      <th>103</th>\n      <td>103</td>\n      <td>108</td>\n      <td>MB</td>\n      <td>Monza e della Brianza</td>\n      <td>873,935</td>\n    </tr>\n    <tr>\n      <th>104</th>\n      <td>104</td>\n      <td>109</td>\n      <td>FM</td>\n      <td>Fermo</td>\n      <td>173,800</td>\n    </tr>\n    <tr>\n      <th>105</th>\n      <td>105</td>\n      <td>110</td>\n      <td>BT</td>\n      <td>Barletta-Andria-Trani</td>\n      <td>390,011</td>\n    </tr>\n    <tr>\n      <th>106</th>\n      <td>106</td>\n      <td>111</td>\n      <td>SU</td>\n      <td>Sud Sardegna</td>\n      <td>350,725</td>\n    </tr>\n  </tbody>\n</table>\n<p>107 rows × 5 columns</p>\n</div>"
     },
     "metadata": {},
     "execution_count": 13
    }
   ],
   "source": [
    "df3"
   ]
  },
  {
   "cell_type": "code",
   "execution_count": null,
   "metadata": {},
   "outputs": [],
   "source": []
  }
 ]
}