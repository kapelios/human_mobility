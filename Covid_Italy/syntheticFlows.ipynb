{
 "cells": [
  {
   "cell_type": "code",
   "execution_count": 1,
   "metadata": {},
   "outputs": [],
   "source": [
    "import skmob\n",
    "from skmob.utils import utils, constants\n",
    "import pandas as pd\n",
    "import geopandas as gpd\n",
    "import numpy as np\n",
    "from skmob.models import Gravity\n",
    "\n",
    "\n",
    "##############################################################\n",
    "#Paths\n",
    "##############################################################\n",
    "\n",
    "# INPUTS\n",
    "\n",
    "# File downloaded from https://github.com/openpolis/geojson-italy/blob/master/geojson/limits_IT_provinces.geojson,\n",
    "# The file contains information about the locations and ids of Italian provinces\n",
    "in_Geojson_Provinces_IT = \"input\\\\Italy_Provinces_Geojson.json\"\n",
    "\n",
    "\n",
    "\n",
    "# File downloaded from https://data.humdata.org/dataset/covid-19-mobility-italy. The populations for each province were \n",
    "# edited from https://www.citypopulation.de/en/italy/admin/\n",
    "in_Italian_ProvincesID_Population_Path = \"input\\\\Italy_ProvincesID_Population.csv\"\n",
    "\n",
    "# File downloaded from https://data.humdata.org/dataset/covid-19-mobility-italy. Contains origin-destination provinces\n",
    "# from Italy, on a time scale\n",
    "in_Origin_Destination_Matrix_Path = \"input\\\\Italy_origin_destination_matrix.csv\"\n",
    "\n",
    "##############################################################\n",
    "\n",
    "# OUTPUTS \n",
    "\n",
    "# The convered file from the geojson. Contains only the province id and the geometry of the province\n",
    "out_ProvinceID_Geometry_CSV_Path = \"output\\\\Italy_ProvinceID_Geometry.csv\"\n",
    "\n",
    "# Merged file which contains the Italian provinces along with population and ids\n",
    "out_ProvinceID_Geometry_Population_Path = \"output\\\\Italy_ProvinceID_Geometry_Population.csv\"\n",
    "\n",
    "# Path of the origin-destination Matrix created by Python\n",
    "out_Origin_Dest_Flows_Path = \"output\\\\Italy_Origin_Destination_Flows_Date.csv\"\n",
    "out_Origin_Dest_Flows_Mini_Path = \"output\\\\Italy_Origin_Destination_Flows_Date_Mini.csv\"\n",
    "#############################################################"
   ]
  },
  {
   "cell_type": "code",
   "execution_count": 2,
   "metadata": {},
   "outputs": [],
   "source": [
    "# Read geojson file containing provinces locations\n",
    "geoJson_Path = open(in_Geojson_Provinces_IT)\n",
    "gpd_df_geojson = gpd.read_file(geoJson_Path)\n",
    "\n",
    "# Delete extra columns from geojson dataframe\n",
    "del gpd_df_geojson['prov_istat_code_num']\n",
    "del gpd_df_geojson['prov_acr']\n",
    "del gpd_df_geojson['reg_istat_code_num']\n",
    "del gpd_df_geojson['reg_istat_code']\n",
    "del gpd_df_geojson['prov_name']\n",
    "del gpd_df_geojson['reg_name']\n",
    "\n",
    "\n",
    "\n",
    "# Read the provinces with population file\n",
    "it_dtset_file = open(in_Italian_ProvincesID_Population_Path)\n",
    "pd_df_ProvID_Population = pd.read_csv(it_dtset_file)\n",
    "\n",
    "# Convert the geopandas to pandas dataframe, in order to merge it with the population dataframe\n",
    "pd_Geojson = pd.DataFrame(gpd_df_geojson)\n",
    "\n",
    "# Merge dataframes based on province id\n",
    "pd_Geojson['prov_istat_code']=pd_Geojson['prov_istat_code'].astype(int)\n",
    "df_Geometry_ProvID_Population = pd.merge(pd_Geojson,pd_df_ProvID_Population,on='prov_istat_code')\n",
    "df_Geometry_ProvID_Population.columns = ['tile_ID', 'geometry', 'index', 'province_code', 'province_name', 'population']\n",
    "df_Geometry_ProvID_Population.pop('index')\n",
    "df_Geometry_ProvID_Population.pop('province_code')\n",
    "tessellation = gpd.GeoDataFrame(df_Geometry_ProvID_Population, geometry=df_Geometry_ProvID_Population.geometry, crs = 'epsg:4326')"
   ]
  },
  {
   "cell_type": "code",
   "execution_count": 3,
   "metadata": {},
   "outputs": [],
   "source": [
    "# Create limit the flows between 27/01-02/02 and 23/03-29/03\n",
    "\n",
    "import datetime as DT\n",
    "out_Origin_Dest_Flows_Path = \"output\\\\Italy_Origin_Destination_Flows_Date.csv\"\n",
    "out_Origin_Dest_Flows_Path_January_1 = \"output\\\\od_partial\\\\od_january_flows_20_26.csv\"\n",
    "out_Origin_Dest_Flows_Path_January_2 = \"output\\\\od_partial\\\\od_january_flows_27_02.csv\"\n",
    "out_Origin_Dest_Flows_Path_March_1 = \"output\\\\od_partial\\\\od_march_flows_30_05.csv\"\n",
    "out_Origin_Dest_Flows_Path_March_2 = \"output\\\\od_partial\\\\od_march_flows_06_12.csv\"\n",
    "\n",
    "# create first dataset\n",
    "temp_df = pd.read_csv(out_Origin_Dest_Flows_Path)\n",
    "temp_df  = temp_df [temp_df['origin'] != temp_df['destination']]\n",
    "startDate = DT.date(2020,1,20)\n",
    "week_end = DT.date(2020,1,26)\n",
    "temp_df['date'] = temp_df['date'].astype('datetime64[ns]')\n",
    "temp_df['date'] = pd.to_datetime(temp_df['date']).dt.date\n",
    "mask = (temp_df['date']>=startDate) & (temp_df['date']<=week_end)\n",
    "\n",
    "# temp_df[mask].to_csv(\"hello.csv\", index = False)\n",
    "# print(temp_df[mask].head(100))\n",
    "temp_df = temp_df[mask].groupby(['origin','destination']).sum().reset_index()\n",
    "temp_df['flow'] = temp_df['flow'] \n",
    "temp_df.to_csv(out_Origin_Dest_Flows_Path_January_1, index = False)\n",
    "# print(temp_df.head())\n",
    "\n",
    "# create second dataset\n",
    "temp_df = pd.read_csv(out_Origin_Dest_Flows_Path)\n",
    "temp_df  = temp_df [temp_df['origin'] != temp_df['destination']]\n",
    "startDate = DT.date(2020,1,27)\n",
    "week_end = DT.date(2020,2,2)\n",
    "temp_df['date'] = temp_df['date'].astype('datetime64[ns]')\n",
    "temp_df['date'] = pd.to_datetime(temp_df['date']).dt.date\n",
    "mask = (temp_df['date']>=startDate) & (temp_df['date']<=week_end)\n",
    "\n",
    "# temp_df[mask].to_csv(\"hello.csv\", index = False)\n",
    "# print(temp_df[mask].head(100))\n",
    "temp_df = temp_df[mask].groupby(['origin','destination']).sum().reset_index()\n",
    "temp_df['flow'] = temp_df['flow'] \n",
    "temp_df.to_csv(out_Origin_Dest_Flows_Path_January_2, index = False)\n",
    "# print(temp_df.head())\n",
    "\n",
    "# create third dataset\n",
    "temp_df = pd.read_csv(out_Origin_Dest_Flows_Path)\n",
    "temp_df  = temp_df [temp_df['origin'] != temp_df['destination']]\n",
    "startDate = DT.date(2020,3,30)\n",
    "week_end = DT.date(2020,4,5)\n",
    "temp_df['date'] = temp_df['date'].astype('datetime64[ns]')\n",
    "temp_df['date'] = pd.to_datetime(temp_df['date']).dt.date\n",
    "mask = (temp_df['date']>=startDate) & (temp_df['date']<=week_end)\n",
    "\n",
    "# temp_df[mask].to_csv(\"hello.csv\", index = False)\n",
    "# print(temp_df[mask].head(100))\n",
    "temp_df = temp_df[mask].groupby(['origin','destination']).sum().reset_index()\n",
    "temp_df['flow'] = temp_df['flow'] \n",
    "temp_df.to_csv(out_Origin_Dest_Flows_Path_March_1, index = False)\n",
    "# print(temp_df.head())\n",
    "\n",
    "\n",
    "# create fourth dataset\n",
    "temp_df = pd.read_csv(out_Origin_Dest_Flows_Path)\n",
    "temp_df  = temp_df [temp_df['origin'] != temp_df['destination']]\n",
    "startDate = DT.date(2020,4,6)\n",
    "week_end = DT.date(2020,4,12)\n",
    "temp_df['date'] = temp_df['date'].astype('datetime64[ns]')\n",
    "temp_df['date'] = pd.to_datetime(temp_df['date']).dt.date\n",
    "mask = (temp_df['date']>=startDate) & (temp_df['date']<=week_end)\n",
    "\n",
    "# temp_df[mask].to_csv(\"hello.csv\", index = False)\n",
    "# print(temp_df[mask].head(100))\n",
    "temp_df = temp_df[mask].groupby(['origin','destination']).sum().reset_index()\n",
    "temp_df['flow'] = temp_df['flow'] \n",
    "temp_df.to_csv(out_Origin_Dest_Flows_Path_March_2, index = False)\n",
    "# print(temp_df.head())\n",
    "\n",
    "# Now we have created two files for january and march"
   ]
  },
  {
   "cell_type": "code",
   "execution_count": 4,
   "metadata": {},
   "outputs": [],
   "source": [
    "# print(tessellation.head())\n",
    "# FLOW DATAFRAME\n",
    "fdf = skmob.FlowDataFrame.from_file(out_Origin_Dest_Flows_Path_January_1,\n",
    "                                    tessellation=tessellation,\n",
    "\t\t\t\t                    tile_id='tile_ID',\n",
    "                                    datetime = 'date',\n",
    "                                    origin = 'origin',\n",
    "                                    destination = 'destination',\n",
    "                                    flow = 'flow',\n",
    "\t\t\t\t                    sep=\",\")"
   ]
  },
  {
   "cell_type": "code",
   "execution_count": 5,
   "metadata": {},
   "outputs": [
    {
     "output_type": "stream",
     "name": "stdout",
     "text": [
      "   tile_ID                                           geometry province_name  \\\n0        1  POLYGON ((7.89397 45.58222, 7.89654 45.57985, ...        Torino   \n1        2  POLYGON ((7.92900 45.74244, 7.92584 45.74196, ...      Vercelli   \n2        3  POLYGON ((8.42079 45.82981, 8.42028 45.83010, ...        Novara   \n3        4  MULTIPOLYGON (((6.94540 44.42794, 6.94734 44.4...         Cuneo   \n4        5  POLYGON ((7.96685 45.11667, 7.96729 45.11673, ...          Asti   \n\n   population  tot_outflow  \n0      430492       228554  \n1      170911        81563  \n2      208550       909623  \n3      164788       460106  \n4      214638       139784  \n"
     ]
    }
   ],
   "source": [
    "# print(fdf.head())\n",
    "tot_outflows = fdf[fdf['origin'] != fdf['destination']].groupby(by='origin', axis=0)['flow'].sum().fillna(0).values\n",
    "tessellation[constants.TOT_OUTFLOW] = tot_outflows\n",
    "print(tessellation.head())"
   ]
  },
  {
   "cell_type": "code",
   "execution_count": 6,
   "metadata": {},
   "outputs": [
    {
     "output_type": "stream",
     "name": "stderr",
     "text": [
      "100%|██████████| 107/107 [00:00<00:00, 3690.77it/s]\n",
      "Gravity(name=\"Gravity model\", deterrence_func_type=\"power_law\", deterrence_func_args=[-2.0], origin_exp=1.0, destination_exp=1.0, gravity_type=\"singly constrained\")\n",
      "  origin destination          flow\n",
      "0      1           2   7962.632815\n",
      "1      1           3   5392.615144\n",
      "2      1           4   7355.436669\n",
      "3      1           5  12505.372018\n",
      "4      1           6  10116.478505\n",
      "\n",
      "C:\\Users\\kostk\\.conda\\envs\\skmob\\lib\\site-packages\\skmob\\models\\gravity.py:43: RuntimeWarning: divide by zero encountered in power\n",
      "  return np.power(x, exponent)\n"
     ]
    }
   ],
   "source": [
    "# Calculate synthetic model\n",
    "\n",
    "# instantiate a singly constrained Gravity model\n",
    "gravity_singly = Gravity(gravity_type='singly constrained')\n",
    "print()\n",
    "print(gravity_singly)\n",
    "\n",
    "synth_fdf = gravity_singly.generate(tessellation,\n",
    "                                   tile_id_column='tile_ID',\n",
    "                                   tot_outflows_column='tot_outflow',\n",
    "                                   relevance_column= 'population',\n",
    "                                   out_format='flows')\n",
    "print(synth_fdf.head())\n",
    "\n",
    "synth_fdf.to_csv(\"synthetic_flows\\\\flow_unfitted.csv\", index = False)\n",
    "\n",
    "\n"
   ]
  },
  {
   "cell_type": "code",
   "execution_count": 7,
   "metadata": {},
   "outputs": [
    {
     "output_type": "stream",
     "name": "stdout",
     "text": [
      "\n",
      "Gravity(name=\"Gravity model\", deterrence_func_type=\"power_law\", deterrence_func_args=[-2.0], origin_exp=1.0, destination_exp=1.0, gravity_type=\"singly constrained\")\n",
      "100%|██████████| 107/107 [00:00<00:00, 2548.45it/s]Gravity(name=\"Gravity model\", deterrence_func_type=\"power_law\", deterrence_func_args=[-2.4577001170212007], origin_exp=1.0, destination_exp=0.25560467099834033, gravity_type=\"singly constrained\")\n",
      "  origin destination          flow\n",
      "0      1           2  19575.218918\n",
      "1      1           3   9990.502331\n",
      "2      1           4  18399.051728\n",
      "3      1           5  27309.938089\n",
      "4      1           6  10918.201207\n",
      "C:\\Users\\kostk\\.conda\\envs\\skmob\\lib\\site-packages\\skmob\\models\\gravity.py:43: RuntimeWarning: divide by zero encountered in power\n",
      "  return np.power(x, exponent)\n",
      "\n"
     ]
    }
   ],
   "source": [
    "# fit the gravity model\n",
    "\n",
    "gravity_singly_fitted = Gravity(gravity_type='singly constrained')\n",
    "print()\n",
    "print(gravity_singly_fitted)\n",
    "\n",
    "gravity_singly_fitted.fit(fdf, relevance_column='population')\n",
    "print(gravity_singly_fitted)\n",
    "\n",
    "np.random.seed(0)\n",
    "synth_fdf_fitted = gravity_singly_fitted.generate(tessellation,\n",
    "                                                        tile_id_column='tile_ID',\n",
    "                                                        tot_outflows_column='tot_outflow',\n",
    "                                                        relevance_column= 'population',\n",
    "                                                        out_format='flows')\n",
    "\n",
    "print(synth_fdf_fitted.head())"
   ]
  },
  {
   "cell_type": "code",
   "execution_count": 8,
   "metadata": {},
   "outputs": [],
   "source": [
    "synth_fdf_fitted.to_csv(\"synthetic_flows\\\\flow_fitted.csv\", index = False)\n"
   ]
  },
  {
   "cell_type": "code",
   "execution_count": 10,
   "metadata": {},
   "outputs": [
    {
     "name": "stdout",
     "output_type": "stream",
     "text": [
      "0.21801894552932036\n"
     ]
    }
   ],
   "source": [
    "import Levenshtein as Lv\n",
    "df1 = pd.read_csv(out_Origin_Dest_Flows_Path_January_1)\n",
    "df2 = pd.read_csv(out_Origin_Dest_Flows_Path_January_2)\n",
    "\n",
    "\n",
    "LOD,NLOD = Lv.calculateLOD(df1,df2)\n",
    "mNLOD = Lv.calculateMean(NLOD)\n",
    "print(\"uncommon\",mNLOD)\n",
    "\n",
    "LOD,NLOD = Lv.calculateLOD(df1,df2)\n",
    "mNLOD = Lv.calculateMean(NLOD)\n",
    "print(\"common\",mNLOD)"
   ]
  },
  {
   "cell_type": "code",
   "execution_count": 11,
   "metadata": {},
   "outputs": [
    {
     "name": "stdout",
     "output_type": "stream",
     "text": [
      "0.6339750100008021\n"
     ]
    }
   ],
   "source": [
    "df1 = pd.read_csv(out_Origin_Dest_Flows_Path_March_1)\n",
    "df2 = pd.read_csv(out_Origin_Dest_Flows_Path_March_2)\n",
    "\n",
    "\n",
    "LOD,NLOD = Lv.calculateLOD(df1,df2)\n",
    "mNLOD = Lv.calculateMean(NLOD)\n",
    "print(mNLOD)"
   ]
  },
  {
   "cell_type": "code",
   "execution_count": 13,
   "metadata": {
    "tags": []
   },
   "outputs": [
    {
     "name": "stderr",
     "output_type": "stream",
     "text": [
      "100%|██████████████████████████████████████████████████████████████| 107/107 [00:00<00:00, 3822.78it/s]\n",
      "C:\\Users\\kostk\\.conda\\envs\\skmob\\lib\\site-packages\\skmob\\models\\gravity.py:43: RuntimeWarning: divide by zero encountered in power\n",
      "  return np.power(x, exponent)\n",
      "  0%|                                                                          | 0/107 [00:00<?, ?it/s]"
     ]
    },
    {
     "name": "stdout",
     "output_type": "stream",
     "text": [
      "   tile_ID                                           geometry province_name  \\\n",
      "0        1  POLYGON ((7.89397 45.58222, 7.89654 45.57985, ...        Torino   \n",
      "1        2  POLYGON ((7.92900 45.74244, 7.92584 45.74196, ...      Vercelli   \n",
      "2        3  POLYGON ((8.42079 45.82981, 8.42028 45.83010, ...        Novara   \n",
      "3        4  MULTIPOLYGON (((6.94540 44.42794, 6.94734 44.4...         Cuneo   \n",
      "4        5  POLYGON ((7.96685 45.11667, 7.96729 45.11673, ...          Asti   \n",
      "\n",
      "   population    tot_outflow  \n",
      "0      430492   32650.571429  \n",
      "1      170911   11651.857143  \n",
      "2      208550  129946.142857  \n",
      "3      164788   65729.428571  \n",
      "4      214638   19969.142857  \n",
      "-8.0 0.1 0.1\n",
      "\n",
      "Gravity(name=\"Gravity model\", deterrence_func_type=\"power_law\", deterrence_func_args=[-8.0], origin_exp=0.1, destination_exp=0.1, gravity_type=\"singly constrained\")\n",
      "  origin destination         flow\n",
      "0      1           2  3819.336946\n",
      "1      1           3   369.693851\n",
      "2      1           4  3206.183281\n",
      "3      1           5  9556.413862\n",
      "4      1           6   295.011784\n",
      "-8.0 0.1 1.0\n",
      "\n",
      "Gravity(name=\"Gravity model\", deterrence_func_type=\"power_law\", deterrence_func_args=[-8.0], origin_exp=0.1, destination_exp=1.0, gravity_type=\"singly constrained\")\n"
     ]
    },
    {
     "name": "stderr",
     "output_type": "stream",
     "text": [
      "100%|██████████████████████████████████████████████████████████████| 107/107 [00:00<00:00, 3963.85it/s]\n",
      "C:\\Users\\kostk\\.conda\\envs\\skmob\\lib\\site-packages\\skmob\\models\\gravity.py:43: RuntimeWarning: divide by zero encountered in power\n",
      "  return np.power(x, exponent)\n",
      "100%|██████████████████████████████████████████████████████████████| 107/107 [00:00<00:00, 3148.02it/s]\n",
      "C:\\Users\\kostk\\.conda\\envs\\skmob\\lib\\site-packages\\skmob\\models\\gravity.py:43: RuntimeWarning: divide by zero encountered in power\n",
      "  return np.power(x, exponent)\n"
     ]
    },
    {
     "name": "stdout",
     "output_type": "stream",
     "text": [
      "  origin destination          flow\n",
      "0      1           2   3708.630172\n",
      "1      1           3    429.401880\n",
      "2      1           4   3012.686277\n",
      "3      1           5  11391.041674\n",
      "4      1           6    645.192592\n",
      "-8.0 1.0 0.1\n",
      "\n",
      "Gravity(name=\"Gravity model\", deterrence_func_type=\"power_law\", deterrence_func_args=[-8.0], origin_exp=1.0, destination_exp=0.1, gravity_type=\"singly constrained\")\n",
      "  origin destination         flow\n",
      "0      1           2  3819.336946\n",
      "1      1           3   369.693851\n",
      "2      1           4  3206.183281\n",
      "3      1           5  9556.413862\n",
      "4      1           6   295.011784\n",
      "-8.0"
     ]
    },
    {
     "name": "stderr",
     "output_type": "stream",
     "text": [
      "100%|██████████████████████████████████████████████████████████████| 107/107 [00:00<00:00, 2816.59it/s]\n",
      "C:\\Users\\kostk\\.conda\\envs\\skmob\\lib\\site-packages\\skmob\\models\\gravity.py:43: RuntimeWarning: divide by zero encountered in power\n",
      "  return np.power(x, exponent)\n",
      "100%|██████████████████████████████████████████████████████████████| 107/107 [00:00<00:00, 3822.81it/s]\n",
      "C:\\Users\\kostk\\.conda\\envs\\skmob\\lib\\site-packages\\skmob\\models\\gravity.py:43: RuntimeWarning: divide by zero encountered in power\n",
      "  return np.power(x, exponent)\n"
     ]
    },
    {
     "name": "stdout",
     "output_type": "stream",
     "text": [
      " 1.0 1.0\n",
      "\n",
      "Gravity(name=\"Gravity model\", deterrence_func_type=\"power_law\", deterrence_func_args=[-8.0], origin_exp=1.0, destination_exp=1.0, gravity_type=\"singly constrained\")\n",
      "  origin destination          flow\n",
      "0      1           2   3708.630172\n",
      "1      1           3    429.401880\n",
      "2      1           4   3012.686277\n",
      "3      1           5  11391.041674\n",
      "4      1           6    645.192592\n",
      "-7.5 0.1 0.1\n",
      "\n",
      "Gravity(name=\"Gravity model\", deterrence_func_type=\"power_law\", deterrence_func_args=[-7.5], origin_exp=0.1, destination_exp=0.1, gravity_type=\"singly constrained\")\n"
     ]
    },
    {
     "name": "stderr",
     "output_type": "stream",
     "text": [
      "100%|██████████████████████████████████████████████████████████████| 107/107 [00:00<00:00, 3058.14it/s]\n",
      "C:\\Users\\kostk\\.conda\\envs\\skmob\\lib\\site-packages\\skmob\\models\\gravity.py:43: RuntimeWarning: divide by zero encountered in power\n",
      "  return np.power(x, exponent)\n",
      "100%|██████████████████████████████████████████████████████████████| 107/107 [00:00<00:00, 3690.80it/s]\n",
      "C:\\Users\\kostk\\.conda\\envs\\skmob\\lib\\site-packages\\skmob\\models\\gravity.py:43: RuntimeWarning: divide by zero encountered in power\n",
      "  return np.power(x, exponent)\n"
     ]
    },
    {
     "name": "stdout",
     "output_type": "stream",
     "text": [
      "  origin destination         flow\n",
      "0      1           2  3930.459934\n",
      "1      1           3   440.780108\n",
      "2      1           4  3334.991212\n",
      "3      1           5  9299.819446\n",
      "4      1           6   358.304970\n",
      "-7.5 0.1 1.0\n",
      "\n",
      "Gravity(name=\"Gravity model\", deterrence_func_type=\"power_law\", deterrence_func_args=[-7.5], origin_exp=0.1, destination_exp=1.0, gravity_type=\"singly constrained\")\n",
      "  origin destination          flow\n",
      "0      1           2   3773.695385\n",
      "1      1           3    506.222699\n",
      "2      1           4   3098.547597\n",
      "3      1           5  10960.766399\n",
      "4      1           6    774.819879\n",
      "-7.5 1.0 0.1\n",
      "\n",
      "Gravity(name=\"Gravity model\", deterrence_func_type=\"power_law\", deterrence_func_args=[-7.5], origin_exp=1.0, destination_exp=0.1, gravity_type=\"singly constrained\")\n"
     ]
    },
    {
     "name": "stderr",
     "output_type": "stream",
     "text": [
      "100%|██████████████████████████████████████████████████████████████| 107/107 [00:00<00:00, 3146.56it/s]\n",
      "C:\\Users\\kostk\\.conda\\envs\\skmob\\lib\\site-packages\\skmob\\models\\gravity.py:43: RuntimeWarning: divide by zero encountered in power\n",
      "  return np.power(x, exponent)\n",
      "  0%|                                                                          | 0/107 [00:00<?, ?it/s]"
     ]
    },
    {
     "name": "stdout",
     "output_type": "stream",
     "text": [
      "  origin destination         flow\n",
      "0      1           2  3930.459934\n",
      "1      1           3   440.780108\n",
      "2      1           4  3334.991212\n",
      "3      1           5  9299.819446\n",
      "4      1           6   358.304970\n",
      "-7.5 1.0 1.0\n",
      "\n",
      "Gravity(name=\"Gravity model\", deterrence_func_type=\"power_law\", deterrence_func_args=[-7.5], origin_exp=1.0, destination_exp=1.0, gravity_type=\"singly constrained\")\n",
      "  origin destination          flow\n",
      "0      1           2   3773.695385\n",
      "1      1           3    506.222699\n",
      "2      1           4   3098.547597\n",
      "3      1           5  10960.766399\n",
      "4      1           6    774.819879\n",
      "-7.0 0.1 0.1\n",
      "\n",
      "Gravity(name=\"Gravity model\", deterrence_func_type=\"power_law\", deterrence_func_args=[-7.0], origin_exp=0.1, destination_exp=0.1, gravity_type=\"singly constrained\")\n"
     ]
    },
    {
     "name": "stderr",
     "output_type": "stream",
     "text": [
      "100%|██████████████████████████████████████████████████████████████| 107/107 [00:00<00:00, 3161.81it/s]\n",
      "C:\\Users\\kostk\\.conda\\envs\\skmob\\lib\\site-packages\\skmob\\models\\gravity.py:43: RuntimeWarning: divide by zero encountered in power\n",
      "  return np.power(x, exponent)\n",
      "100%|██████████████████████████████████████████████████████████████| 107/107 [00:00<00:00, 3344.91it/s]"
     ]
    },
    {
     "name": "stdout",
     "output_type": "stream",
     "text": [
      "  origin destination         flow\n",
      "0      1           2  4031.470383\n",
      "1      1           3   523.801149\n",
      "2      1           4  3457.528295\n",
      "3      1           5  9020.254368\n",
      "4      1           6   433.741525\n",
      "-7.0 0.1 1.0\n",
      "\n",
      "Gravity(name=\"Gravity model\", deterrence_func_type=\"power_law\", deterrence_func_args=[-7.0], origin_exp=0.1, destination_exp=1.0, gravity_type=\"singly constrained\")\n",
      "  origin destination          flow\n",
      "0      1           2   3813.256804\n",
      "1      1           3    592.645769\n",
      "2      1           4   3164.742170\n",
      "3      1           5  10473.559465\n",
      "4      1           6    924.034182\n",
      "-7.0 1.0 0.1\n",
      "\n",
      "Gravity(name=\"Gravity model\", deterrence_func_type=\"power_law\", deterrence_func_args=[-7.0], origin_exp=1.0, destination_exp=0.1, gravity_type=\"singly constrained\")\n"
     ]
    },
    {
     "name": "stderr",
     "output_type": "stream",
     "text": [
      "\n",
      "C:\\Users\\kostk\\.conda\\envs\\skmob\\lib\\site-packages\\skmob\\models\\gravity.py:43: RuntimeWarning: divide by zero encountered in power\n",
      "  return np.power(x, exponent)\n",
      "100%|██████████████████████████████████████████████████████████████| 107/107 [00:00<00:00, 2973.13it/s]\n",
      "C:\\Users\\kostk\\.conda\\envs\\skmob\\lib\\site-packages\\skmob\\models\\gravity.py:43: RuntimeWarning: divide by zero encountered in power\n",
      "  return np.power(x, exponent)\n",
      "100%|██████████████████████████████████████████████████████████████| 107/107 [00:00<00:00, 3148.04it/s]\n",
      "C:\\Users\\kostk\\.conda\\envs\\skmob\\lib\\site-packages\\skmob\\models\\gravity.py:43: RuntimeWarning: divide by zero encountered in power\n",
      "  return np.power(x, exponent)\n"
     ]
    },
    {
     "name": "stdout",
     "output_type": "stream",
     "text": [
      "  origin destination         flow\n",
      "0      1           2  4031.470383\n",
      "1      1           3   523.801149\n",
      "2      1           4  3457.528295\n",
      "3      1           5  9020.254368\n",
      "4      1           6   433.741525\n",
      "-7.0 1.0 1.0\n",
      "\n",
      "Gravity(name=\"Gravity model\", deterrence_func_type=\"power_law\", deterrence_func_args=[-7.0], origin_exp=1.0, destination_exp=1.0, gravity_type=\"singly constrained\")\n",
      "  origin destination          flow\n",
      "0      1           2   3813.256804\n",
      "1      1           3    592.645769\n",
      "2      1           4   3164.742170\n",
      "3      1           5  10473.559465\n",
      "4      1           6    924.034182\n",
      "-6.5"
     ]
    },
    {
     "name": "stderr",
     "output_type": "stream",
     "text": [
      "100%|██████████████████████████████████████████████████████████████| 107/107 [00:00<00:00, 2610.58it/s]\n",
      "C:\\Users\\kostk\\.conda\\envs\\skmob\\lib\\site-packages\\skmob\\models\\gravity.py:43: RuntimeWarning: divide by zero encountered in power\n",
      "  return np.power(x, exponent)\n",
      "100%|██████████████████████████████████████████████████████████████| 107/107 [00:00<00:00, 3452.74it/s]"
     ]
    },
    {
     "name": "stdout",
     "output_type": "stream",
     "text": [
      " 0.1 0.1\n",
      "\n",
      "Gravity(name=\"Gravity model\", deterrence_func_type=\"power_law\", deterrence_func_args=[-6.5], origin_exp=0.1, destination_exp=0.1, gravity_type=\"singly constrained\")\n",
      "  origin destination         flow\n",
      "0      1           2  4117.901003\n",
      "1      1           3   619.873735\n",
      "2      1           4  3569.678636\n",
      "3      1           5  8712.752562\n",
      "4      1           6   522.879360\n",
      "-6.5 0.1 1.0\n",
      "\n",
      "Gravity(name=\"Gravity model\", deterrence_func_type=\"power_law\", deterrence_func_args=[-6.5], origin_exp=0.1, destination_exp=1.0, gravity_type=\"singly constrained\")\n"
     ]
    },
    {
     "name": "stderr",
     "output_type": "stream",
     "text": [
      "\n",
      "C:\\Users\\kostk\\.conda\\envs\\skmob\\lib\\site-packages\\skmob\\models\\gravity.py:43: RuntimeWarning: divide by zero encountered in power\n",
      "  return np.power(x, exponent)\n",
      "100%|██████████████████████████████████████████████████████████████| 107/107 [00:00<00:00, 2098.72it/s]\n",
      "C:\\Users\\kostk\\.conda\\envs\\skmob\\lib\\site-packages\\skmob\\models\\gravity.py:43: RuntimeWarning: divide by zero encountered in power\n",
      "  return np.power(x, exponent)\n"
     ]
    },
    {
     "name": "stdout",
     "output_type": "stream",
     "text": [
      "  origin destination         flow\n",
      "0      1           2  3818.576573\n",
      "1      1           3   687.582791\n",
      "2      1           4  3203.278753\n",
      "3      1           5  9917.995812\n",
      "4      1           6  1092.072713\n",
      "-6.5 1.0 0.1\n",
      "\n",
      "Gravity(name=\"Gravity model\", deterrence_func_type=\"power_law\", deterrence_func_args=[-6.5], origin_exp=1.0, destination_exp=0.1, gravity_type=\"singly constrained\")\n",
      "  origin destination         flow\n",
      "0      1           2  4117.901003\n",
      "1      1           3   619.873735\n",
      "2      1           4  3569.678636\n",
      "3      1           5  8712.752562\n",
      "4      1           6   522.879360\n"
     ]
    },
    {
     "name": "stderr",
     "output_type": "stream",
     "text": [
      "100%|██████████████████████████████████████████████████████████████| 107/107 [00:00<00:00, 2432.50it/s]\n",
      "C:\\Users\\kostk\\.conda\\envs\\skmob\\lib\\site-packages\\skmob\\models\\gravity.py:43: RuntimeWarning: divide by zero encountered in power\n",
      "  return np.power(x, exponent)\n",
      "  0%|                                                                          | 0/107 [00:00<?, ?it/s]"
     ]
    },
    {
     "name": "stdout",
     "output_type": "stream",
     "text": [
      "-6.5 1.0 1.0\n",
      "\n",
      "Gravity(name=\"Gravity model\", deterrence_func_type=\"power_law\", deterrence_func_args=[-6.5], origin_exp=1.0, destination_exp=1.0, gravity_type=\"singly constrained\")\n",
      "  origin destination         flow\n",
      "0      1           2  3818.576573\n",
      "1      1           3   687.582791\n",
      "2      1           4  3203.278753\n",
      "3      1           5  9917.995812\n",
      "4      1           6  1092.072713\n",
      "-6.0 0.1 0.1\n",
      "\n",
      "Gravity(name=\"Gravity model\", deterrence_func_type=\"power_law\", deterrence_func_args=[-6.0], origin_exp=0.1, destination_exp=0.1, gravity_type=\"singly constrained\")\n"
     ]
    },
    {
     "name": "stderr",
     "output_type": "stream",
     "text": [
      "100%|██████████████████████████████████████████████████████████████| 107/107 [00:00<00:00, 3058.07it/s]\n",
      "C:\\Users\\kostk\\.conda\\envs\\skmob\\lib\\site-packages\\skmob\\models\\gravity.py:43: RuntimeWarning: divide by zero encountered in power\n",
      "  return np.power(x, exponent)\n",
      "100%|██████████████████████████████████████████████████████████████| 107/107 [00:00<00:00, 2378.48it/s]"
     ]
    },
    {
     "name": "stdout",
     "output_type": "stream",
     "text": [
      "  origin destination         flow\n",
      "0      1           2  4183.809935\n",
      "1      1           3   729.665212\n",
      "2      1           4  3665.862019\n",
      "3      1           5  8370.966298\n",
      "4      1           6   626.982780\n",
      "-6.0 0.1 1.0\n",
      "\n",
      "Gravity(name=\"Gravity model\", deterrence_func_type=\"power_law\", deterrence_func_args=[-6.0], origin_exp=0.1, destination_exp=1.0, gravity_type=\"singly constrained\")\n",
      "  origin destination         flow\n",
      "0      1           2  3779.207956\n",
      "1      1           3   788.403685\n",
      "2      1           4  3204.387054\n",
      "3      1           5  9282.124188\n",
      "4      1           6  1275.583554\n",
      "-6.0"
     ]
    },
    {
     "name": "stderr",
     "output_type": "stream",
     "text": [
      "\n",
      "C:\\Users\\kostk\\.conda\\envs\\skmob\\lib\\site-packages\\skmob\\models\\gravity.py:43: RuntimeWarning: divide by zero encountered in power\n",
      "  return np.power(x, exponent)\n",
      "100%|██████████████████████████████████████████████████████████████| 107/107 [00:00<00:00, 2973.32it/s]\n",
      "C:\\Users\\kostk\\.conda\\envs\\skmob\\lib\\site-packages\\skmob\\models\\gravity.py:43: RuntimeWarning: divide by zero encountered in power\n",
      "  return np.power(x, exponent)\n",
      "100%|██████████████████████████████████████████████████████████████| 107/107 [00:00<00:00, 3452.74it/s]"
     ]
    },
    {
     "name": "stdout",
     "output_type": "stream",
     "text": [
      " 1.0 0.1\n",
      "\n",
      "Gravity(name=\"Gravity model\", deterrence_func_type=\"power_law\", deterrence_func_args=[-6.0], origin_exp=1.0, destination_exp=0.1, gravity_type=\"singly constrained\")\n",
      "  origin destination         flow\n",
      "0      1           2  4183.809935\n",
      "1      1           3   729.665212\n",
      "2      1           4  3665.862019\n",
      "3      1           5  8370.966298\n",
      "4      1           6   626.982780\n",
      "-6.0 1.0 1.0\n",
      "\n",
      "Gravity(name=\"Gravity model\", deterrence_func_type=\"power_law\", deterrence_func_args=[-6.0], origin_exp=1.0, destination_exp=1.0, gravity_type=\"singly constrained\")\n"
     ]
    },
    {
     "name": "stderr",
     "output_type": "stream",
     "text": [
      "\n",
      "C:\\Users\\kostk\\.conda\\envs\\skmob\\lib\\site-packages\\skmob\\models\\gravity.py:43: RuntimeWarning: divide by zero encountered in power\n",
      "  return np.power(x, exponent)\n",
      "100%|██████████████████████████████████████████████████████████████| 107/107 [00:00<00:00, 2548.44it/s]\n",
      "C:\\Users\\kostk\\.conda\\envs\\skmob\\lib\\site-packages\\skmob\\models\\gravity.py:43: RuntimeWarning: divide by zero encountered in power\n",
      "  return np.power(x, exponent)\n"
     ]
    },
    {
     "name": "stdout",
     "output_type": "stream",
     "text": [
      "  origin destination         flow\n",
      "0      1           2  3779.207956\n",
      "1      1           3   788.403685\n",
      "2      1           4  3204.387054\n",
      "3      1           5  9282.124188\n",
      "4      1           6  1275.583554\n",
      "-5.5 0.1 0.1\n",
      "\n",
      "Gravity(name=\"Gravity model\", deterrence_func_type=\"power_law\", deterrence_func_args=[-5.5], origin_exp=0.1, destination_exp=0.1, gravity_type=\"singly constrained\")\n",
      "  origin destination         flow\n",
      "0      1           2  4221.312172\n",
      "1      1           3   852.949904\n",
      "2      1           4  3738.544778\n",
      "3      1           5  7986.845519\n",
      "4      1           6   746.602097\n",
      "-5.5"
     ]
    },
    {
     "name": "stderr",
     "output_type": "stream",
     "text": [
      "100%|██████████████████████████████████████████████████████████████| 107/107 [00:00<00:00, 2816.70it/s]\n",
      "C:\\Users\\kostk\\.conda\\envs\\skmob\\lib\\site-packages\\skmob\\models\\gravity.py:43: RuntimeWarning: divide by zero encountered in power\n",
      "  return np.power(x, exponent)\n",
      "  0%|                                                                          | 0/107 [00:00<?, ?it/s]"
     ]
    },
    {
     "name": "stdout",
     "output_type": "stream",
     "text": [
      " 0.1 1.0\n",
      "\n",
      "Gravity(name=\"Gravity model\", deterrence_func_type=\"power_law\", deterrence_func_args=[-5.5], origin_exp=0.1, destination_exp=1.0, gravity_type=\"singly constrained\")\n",
      "  origin destination         flow\n",
      "0      1           2  3683.463987\n",
      "1      1           3   890.284154\n",
      "2      1           4  3156.832620\n",
      "3      1           5  8555.141172\n",
      "4      1           6  1467.312504\n",
      "-5.5 1.0 0.1\n",
      "\n",
      "Gravity(name=\"Gravity model\", deterrence_func_type=\"power_law\", deterrence_func_args=[-5.5], origin_exp=1.0, destination_exp=0.1, gravity_type=\"singly constrained\")\n"
     ]
    },
    {
     "name": "stderr",
     "output_type": "stream",
     "text": [
      "100%|██████████████████████████████████████████████████████████████| 107/107 [00:00<00:00, 2489.13it/s]\n",
      "C:\\Users\\kostk\\.conda\\envs\\skmob\\lib\\site-packages\\skmob\\models\\gravity.py:43: RuntimeWarning: divide by zero encountered in power\n",
      "  return np.power(x, exponent)\n",
      "100%|██████████████████████████████████████████████████████████████| 107/107 [00:00<00:00, 3243.36it/s]\n",
      "C:\\Users\\kostk\\.conda\\envs\\skmob\\lib\\site-packages\\skmob\\models\\gravity.py:43: RuntimeWarning: divide by zero encountered in power\n",
      "  return np.power(x, exponent)\n"
     ]
    },
    {
     "name": "stdout",
     "output_type": "stream",
     "text": [
      "  origin destination         flow\n",
      "0      1           2  4221.312172\n",
      "1      1           3   852.949904\n",
      "2      1           4  3738.544778\n",
      "3      1           5  7986.845519\n",
      "4      1           6   746.602097\n",
      "-5.5 1.0 1.0\n",
      "\n",
      "Gravity(name=\"Gravity model\", deterrence_func_type=\"power_law\", deterrence_func_args=[-5.5], origin_exp=1.0, destination_exp=1.0, gravity_type=\"singly constrained\")\n",
      "  origin destination         flow\n",
      "0      1           2  3683.463987\n",
      "1      1           3   890.284154\n",
      "2      1           4  3156.832620\n",
      "3      1           5  8555.141172\n",
      "4      1           6  1467.312504\n",
      "-5.0"
     ]
    },
    {
     "name": "stderr",
     "output_type": "stream",
     "text": [
      "100%|██████████████████████████████████████████████████████████████| 107/107 [00:00<00:00, 2548.41it/s]\n",
      "C:\\Users\\kostk\\.conda\\envs\\skmob\\lib\\site-packages\\skmob\\models\\gravity.py:43: RuntimeWarning: divide by zero encountered in power\n",
      "  return np.power(x, exponent)\n"
     ]
    },
    {
     "name": "stdout",
     "output_type": "stream",
     "text": [
      " 0.1 0.1\n",
      "\n",
      "Gravity(name=\"Gravity model\", deterrence_func_type=\"power_law\", deterrence_func_args=[-5.0], origin_exp=0.1, destination_exp=0.1, gravity_type=\"singly constrained\")\n",
      "  origin destination         flow\n",
      "0      1           2  4220.006255\n",
      "1      1           3   987.901192\n",
      "2      1           4  3777.627753\n",
      "3      1           5  7550.315104\n",
      "4      1           6   880.872190"
     ]
    },
    {
     "name": "stderr",
     "output_type": "stream",
     "text": [
      "100%|██████████████████████████████████████████████████████████████| 107/107 [00:00<00:00, 3058.14it/s]"
     ]
    },
    {
     "name": "stdout",
     "output_type": "stream",
     "text": [
      "\n",
      "-5.0 0.1 1.0\n",
      "\n",
      "Gravity(name=\"Gravity model\", deterrence_func_type=\"power_law\", deterrence_func_args=[-5.0], origin_exp=0.1, destination_exp=1.0, gravity_type=\"singly constrained\")\n",
      "  origin destination         flow\n",
      "0      1           2  3519.619384\n",
      "1      1           3   985.580896\n",
      "2      1           4  3048.890151\n",
      "3      1           5  7730.198051\n",
      "4      1           6  1654.702642\n",
      "-5.0"
     ]
    },
    {
     "name": "stderr",
     "output_type": "stream",
     "text": [
      "\n",
      "C:\\Users\\kostk\\.conda\\envs\\skmob\\lib\\site-packages\\skmob\\models\\gravity.py:43: RuntimeWarning: divide by zero encountered in power\n",
      "  return np.power(x, exponent)\n",
      "100%|██████████████████████████████████████████████████████████████| 107/107 [00:00<00:00, 2610.57it/s]\n",
      "C:\\Users\\kostk\\.conda\\envs\\skmob\\lib\\site-packages\\skmob\\models\\gravity.py:43: RuntimeWarning: divide by zero encountered in power\n",
      "  return np.power(x, exponent)\n",
      "  0%|                                                                          | 0/107 [00:00<?, ?it/s]"
     ]
    },
    {
     "name": "stdout",
     "output_type": "stream",
     "text": [
      " 1.0 0.1\n",
      "\n",
      "Gravity(name=\"Gravity model\", deterrence_func_type=\"power_law\", deterrence_func_args=[-5.0], origin_exp=1.0, destination_exp=0.1, gravity_type=\"singly constrained\")\n",
      "  origin destination         flow\n",
      "0      1           2  4220.006255\n",
      "1      1           3   987.901192\n",
      "2      1           4  3777.627753\n",
      "3      1           5  7550.315104\n",
      "4      1           6   880.872190\n",
      "-5.0 1.0 1.0\n",
      "\n",
      "Gravity(name=\"Gravity model\", deterrence_func_type=\"power_law\", deterrence_func_args=[-5.0], origin_exp=1.0, destination_exp=1.0, gravity_type=\"singly constrained\")\n"
     ]
    },
    {
     "name": "stderr",
     "output_type": "stream",
     "text": [
      "100%|██████████████████████████████████████████████████████████████| 107/107 [00:00<00:00, 1814.12it/s]\n",
      "C:\\Users\\kostk\\.conda\\envs\\skmob\\lib\\site-packages\\skmob\\models\\gravity.py:43: RuntimeWarning: divide by zero encountered in power\n",
      "  return np.power(x, exponent)\n",
      "100%|██████████████████████████████████████████████████████████████| 107/107 [00:00<00:00, 2892.81it/s]\n",
      "C:\\Users\\kostk\\.conda\\envs\\skmob\\lib\\site-packages\\skmob\\models\\gravity.py:43: RuntimeWarning: divide by zero encountered in power\n",
      "  return np.power(x, exponent)\n"
     ]
    },
    {
     "name": "stdout",
     "output_type": "stream",
     "text": [
      "  origin destination         flow\n",
      "0      1           2  3519.619384\n",
      "1      1           3   985.580896\n",
      "2      1           4  3048.890151\n",
      "3      1           5  7730.198051\n",
      "4      1           6  1654.702642\n",
      "-4.5 0.1 0.1\n",
      "\n",
      "Gravity(name=\"Gravity model\", deterrence_func_type=\"power_law\", deterrence_func_args=[-4.5], origin_exp=0.1, destination_exp=0.1, gravity_type=\"singly constrained\")\n",
      "  origin destination         flow\n",
      "0      1           2  4166.336079\n",
      "1      1           3  1130.001642\n",
      "2      1           4  3769.739276\n",
      "3      1           5  7049.047701\n",
      "4      1           6  1026.389435\n",
      "-4.5"
     ]
    },
    {
     "name": "stderr",
     "output_type": "stream",
     "text": [
      "100%|██████████████████████████████████████████████████████████████| 107/107 [00:00<00:00, 2140.69it/s]"
     ]
    },
    {
     "name": "stdout",
     "output_type": "stream",
     "text": [
      " 0.1 1.0\n",
      "\n",
      "Gravity(name=\"Gravity model\", deterrence_func_type=\"power_law\", deterrence_func_args=[-4.5], origin_exp=0.1, destination_exp=1.0, gravity_type=\"singly constrained\")\n",
      "  origin destination         flow\n",
      "0      1           2  3278.111876\n",
      "1      1           3  1063.517663\n",
      "2      1           4  2870.257079\n",
      "3      1           5  6808.365447\n",
      "4      1           6  1818.888594\n",
      "-4.5 1.0 0.1\n",
      "\n",
      "Gravity(name=\"Gravity model\", deterrence_func_type=\"power_law\", deterrence_func_args=[-4.5], origin_exp=1.0, destination_exp=0.1, gravity_type=\"singly constrained\")\n"
     ]
    },
    {
     "name": "stderr",
     "output_type": "stream",
     "text": [
      "\n",
      "C:\\Users\\kostk\\.conda\\envs\\skmob\\lib\\site-packages\\skmob\\models\\gravity.py:43: RuntimeWarning: divide by zero encountered in power\n",
      "  return np.power(x, exponent)\n",
      "100%|██████████████████████████████████████████████████████████████| 107/107 [00:00<00:00, 2277.33it/s]\n",
      "C:\\Users\\kostk\\.conda\\envs\\skmob\\lib\\site-packages\\skmob\\models\\gravity.py:43: RuntimeWarning: divide by zero encountered in power\n",
      "  return np.power(x, exponent)\n",
      "100%|██████████████████████████████████████████████████████████████| 107/107 [00:00<00:00, 1946.09it/s]"
     ]
    },
    {
     "name": "stdout",
     "output_type": "stream",
     "text": [
      "  origin destination         flow\n",
      "0      1           2  4166.336079\n",
      "1      1           3  1130.001642\n",
      "2      1           4  3769.739276\n",
      "3      1           5  7049.047701\n",
      "4      1           6  1026.389435\n",
      "-4.5 1.0 1.0\n",
      "\n",
      "Gravity(name=\"Gravity model\", deterrence_func_type=\"power_law\", deterrence_func_args=[-4.5], origin_exp=1.0, destination_exp=1.0, gravity_type=\"singly constrained\")\n"
     ]
    },
    {
     "name": "stderr",
     "output_type": "stream",
     "text": [
      "\n",
      "C:\\Users\\kostk\\.conda\\envs\\skmob\\lib\\site-packages\\skmob\\models\\gravity.py:43: RuntimeWarning: divide by zero encountered in power\n",
      "  return np.power(x, exponent)\n",
      "100%|██████████████████████████████████████████████████████████████| 107/107 [00:00<00:00, 1427.13it/s]"
     ]
    },
    {
     "name": "stdout",
     "output_type": "stream",
     "text": [
      "  origin destination         flow\n",
      "0      1           2  3278.111876\n",
      "1      1           3  1063.517663\n",
      "2      1           4  2870.257079\n",
      "3      1           5  6808.365447\n",
      "4      1           6  1818.888594\n",
      "-4.0 0.1 0.1\n",
      "\n",
      "Gravity(name=\"Gravity model\", deterrence_func_type=\"power_law\", deterrence_func_args=[-4.0], origin_exp=0.1, destination_exp=0.1, gravity_type=\"singly constrained\")\n"
     ]
    },
    {
     "name": "stderr",
     "output_type": "stream",
     "text": [
      "\n",
      "C:\\Users\\kostk\\.conda\\envs\\skmob\\lib\\site-packages\\skmob\\models\\gravity.py:43: RuntimeWarning: divide by zero encountered in power\n",
      "  return np.power(x, exponent)\n",
      "100%|██████████████████████████████████████████████████████████████| 107/107 [00:00<00:00, 1507.56it/s]"
     ]
    },
    {
     "name": "stdout",
     "output_type": "stream",
     "text": [
      "  origin destination         flow\n",
      "0      1           2  4043.046028\n",
      "1      1           3  1270.450712\n",
      "2      1           4  3697.572086\n",
      "3      1           5  6468.580738\n",
      "4      1           6  1175.505399\n",
      "-4.0 0.1 1.0\n",
      "\n",
      "Gravity(name=\"Gravity model\", deterrence_func_type=\"power_law\", deterrence_func_args=[-4.0], origin_exp=0.1, destination_exp=1.0, gravity_type=\"singly constrained\")\n"
     ]
    },
    {
     "name": "stderr",
     "output_type": "stream",
     "text": [
      "\n",
      "C:\\Users\\kostk\\.conda\\envs\\skmob\\lib\\site-packages\\skmob\\models\\gravity.py:43: RuntimeWarning: divide by zero encountered in power\n",
      "  return np.power(x, exponent)\n",
      "100%|██████████████████████████████████████████████████████████████| 107/107 [00:00<00:00, 2098.64it/s]"
     ]
    },
    {
     "name": "stdout",
     "output_type": "stream",
     "text": [
      "  origin destination         flow\n",
      "0      1           2  2954.781633\n",
      "1      1           3  1110.633291\n",
      "2      1           4  2615.010069\n",
      "3      1           5  5803.214806\n",
      "4      1           6  1934.932362\n",
      "-4.0 1.0 0.1\n",
      "\n",
      "Gravity(name=\"Gravity model\", deterrence_func_type=\"power_law\", deterrence_func_args=[-4.0], origin_exp=1.0, destination_exp=0.1, gravity_type=\"singly constrained\")\n",
      "  origin destination         flow\n",
      "0      1           2  4043.046028\n",
      "1      1           3  1270.450712\n",
      "2      1           4  3697.572086\n",
      "3      1           5  6468.580738\n",
      "4      1           6  1175.505399\n",
      "-4.0"
     ]
    },
    {
     "name": "stderr",
     "output_type": "stream",
     "text": [
      "\n",
      "C:\\Users\\kostk\\.conda\\envs\\skmob\\lib\\site-packages\\skmob\\models\\gravity.py:43: RuntimeWarning: divide by zero encountered in power\n",
      "  return np.power(x, exponent)\n",
      "100%|██████████████████████████████████████████████████████████████| 107/107 [00:00<00:00, 2363.92it/s]\n",
      "C:\\Users\\kostk\\.conda\\envs\\skmob\\lib\\site-packages\\skmob\\models\\gravity.py:43: RuntimeWarning: divide by zero encountered in power\n",
      "  return np.power(x, exponent)\n",
      "  0%|                                                                          | 0/107 [00:00<?, ?it/s]"
     ]
    },
    {
     "name": "stdout",
     "output_type": "stream",
     "text": [
      " 1.0 1.0\n",
      "\n",
      "Gravity(name=\"Gravity model\", deterrence_func_type=\"power_law\", deterrence_func_args=[-4.0], origin_exp=1.0, destination_exp=1.0, gravity_type=\"singly constrained\")\n",
      "  origin destination         flow\n",
      "0      1           2  2954.781633\n",
      "1      1           3  1110.633291\n",
      "2      1           4  2615.010069\n",
      "3      1           5  5803.214806\n",
      "4      1           6  1934.932362\n",
      "-3.5 0.1 0.1\n",
      "\n",
      "Gravity(name=\"Gravity model\", deterrence_func_type=\"power_law\", deterrence_func_args=[-3.5], origin_exp=0.1, destination_exp=0.1, gravity_type=\"singly constrained\")\n"
     ]
    },
    {
     "name": "stderr",
     "output_type": "stream",
     "text": [
      "100%|██████████████████████████████████████████████████████████████| 107/107 [00:00<00:00, 2675.83it/s]\n",
      "C:\\Users\\kostk\\.conda\\envs\\skmob\\lib\\site-packages\\skmob\\models\\gravity.py:43: RuntimeWarning: divide by zero encountered in power\n",
      "  return np.power(x, exponent)\n",
      "100%|██████████████████████████████████████████████████████████████| 107/107 [00:00<00:00, 3343.22it/s]\n",
      "C:\\Users\\kostk\\.conda\\envs\\skmob\\lib\\site-packages\\skmob\\models\\gravity.py:43: RuntimeWarning: divide by zero encountered in power\n",
      "  return np.power(x, exponent)\n"
     ]
    },
    {
     "name": "stdout",
     "output_type": "stream",
     "text": [
      "  origin destination         flow\n",
      "0      1           2  3829.201706\n",
      "1      1           3  1394.060877\n",
      "2      1           4  3539.705713\n",
      "3      1           5  5793.389517\n",
      "4      1           6  1313.960335\n",
      "-3.5 0.1 1.0\n",
      "\n",
      "Gravity(name=\"Gravity model\", deterrence_func_type=\"power_law\", deterrence_func_args=[-3.5], origin_exp=0.1, destination_exp=1.0, gravity_type=\"singly constrained\")\n",
      "  origin destination         flow\n",
      "0      1           2  2554.701053\n",
      "1      1           3  1112.524909\n",
      "2      1           4  2285.277853\n",
      "3      1           5  4744.686370\n",
      "4      1           6  1974.415508\n",
      "-3.5"
     ]
    },
    {
     "name": "stderr",
     "output_type": "stream",
     "text": [
      "100%|██████████████████████████████████████████████████████████████| 107/107 [00:00<00:00, 1877.82it/s]"
     ]
    },
    {
     "name": "stdout",
     "output_type": "stream",
     "text": [
      " 1.0 0.1\n",
      "\n",
      "Gravity(name=\"Gravity model\", deterrence_func_type=\"power_law\", deterrence_func_args=[-3.5], origin_exp=1.0, destination_exp=0.1, gravity_type=\"singly constrained\")\n",
      "  origin destination         flow\n",
      "0      1           2  3829.201706\n",
      "1      1           3  1394.060877\n",
      "2      1           4  3539.705713\n",
      "3      1           5  5793.389517\n",
      "4      1           6  1313.960335\n",
      "-3.5"
     ]
    },
    {
     "name": "stderr",
     "output_type": "stream",
     "text": [
      "\n",
      "C:\\Users\\kostk\\.conda\\envs\\skmob\\lib\\site-packages\\skmob\\models\\gravity.py:43: RuntimeWarning: divide by zero encountered in power\n",
      "  return np.power(x, exponent)\n",
      "100%|██████████████████████████████████████████████████████████████| 107/107 [00:00<00:00, 2744.49it/s]\n",
      "C:\\Users\\kostk\\.conda\\envs\\skmob\\lib\\site-packages\\skmob\\models\\gravity.py:43: RuntimeWarning: divide by zero encountered in power\n",
      "  return np.power(x, exponent)\n",
      "  0%|                                                                          | 0/107 [00:00<?, ?it/s]"
     ]
    },
    {
     "name": "stdout",
     "output_type": "stream",
     "text": [
      " 1.0 1.0\n",
      "\n",
      "Gravity(name=\"Gravity model\", deterrence_func_type=\"power_law\", deterrence_func_args=[-3.5], origin_exp=1.0, destination_exp=1.0, gravity_type=\"singly constrained\")\n",
      "  origin destination         flow\n",
      "0      1           2  2554.701053\n",
      "1      1           3  1112.524909\n",
      "2      1           4  2285.277853\n",
      "3      1           5  4744.686370\n",
      "4      1           6  1974.415508\n",
      "-3.0 0.1 0.1\n",
      "\n",
      "Gravity(name=\"Gravity model\", deterrence_func_type=\"power_law\", deterrence_func_args=[-3.0], origin_exp=0.1, destination_exp=0.1, gravity_type=\"singly constrained\")\n"
     ]
    },
    {
     "name": "stderr",
     "output_type": "stream",
     "text": [
      "100%|██████████████████████████████████████████████████████████████| 107/107 [00:00<00:00, 3690.92it/s]\n",
      "C:\\Users\\kostk\\.conda\\envs\\skmob\\lib\\site-packages\\skmob\\models\\gravity.py:43: RuntimeWarning: divide by zero encountered in power\n",
      "  return np.power(x, exponent)\n",
      "100%|██████████████████████████████████████████████████████████████| 107/107 [00:00<00:00, 2744.59it/s]\n",
      "C:\\Users\\kostk\\.conda\\envs\\skmob\\lib\\site-packages\\skmob\\models\\gravity.py:43: RuntimeWarning: divide by zero encountered in power\n",
      "  return np.power(x, exponent)\n"
     ]
    },
    {
     "name": "stdout",
     "output_type": "stream",
     "text": [
      "  origin destination         flow\n",
      "0      1           2  3502.017532\n",
      "1      1           3  1477.121338\n",
      "2      1           4  3272.112132\n",
      "3      1           5  5010.337360\n",
      "4      1           6  1418.242176\n",
      "-3.0 0.1 1.0\n",
      "\n",
      "Gravity(name=\"Gravity model\", deterrence_func_type=\"power_law\", deterrence_func_args=[-3.0], origin_exp=0.1, destination_exp=1.0, gravity_type=\"singly constrained\")\n"
     ]
    },
    {
     "name": "stderr",
     "output_type": "stream",
     "text": [
      "100%|██████████████████████████████████████████████████████████████| 107/107 [00:00<00:00, 2973.23it/s]"
     ]
    },
    {
     "name": "stdout",
     "output_type": "stream",
     "text": [
      "  origin destination         flow\n",
      "0      1           2  2095.525248\n",
      "1      1           3  1057.272448\n",
      "2      1           4  1894.710102\n",
      "3      1           5  3680.310739\n",
      "4      1           6  1911.390545\n",
      "-3.0 1.0 0.1\n",
      "\n",
      "Gravity(name=\"Gravity model\", deterrence_func_type=\"power_law\", deterrence_func_args=[-3.0], origin_exp=1.0, destination_exp=0.1, gravity_type=\"singly constrained\")\n",
      "  origin destination         flow\n",
      "0      1           2  3502.017532\n",
      "1      1           3  1477.121338\n",
      "2      1           4  3272.112132\n",
      "3      1           5  5010.337360\n",
      "4      1           6  1418.242176\n",
      "-3.0"
     ]
    },
    {
     "name": "stderr",
     "output_type": "stream",
     "text": [
      "\n",
      "C:\\Users\\kostk\\.conda\\envs\\skmob\\lib\\site-packages\\skmob\\models\\gravity.py:43: RuntimeWarning: divide by zero encountered in power\n",
      "  return np.power(x, exponent)\n",
      "100%|██████████████████████████████████████████████████████████████| 107/107 [00:00<00:00, 2277.33it/s]\n",
      "C:\\Users\\kostk\\.conda\\envs\\skmob\\lib\\site-packages\\skmob\\models\\gravity.py:43: RuntimeWarning: divide by zero encountered in power\n",
      "  return np.power(x, exponent)\n",
      "  0%|                                                                          | 0/107 [00:00<?, ?it/s]"
     ]
    },
    {
     "name": "stdout",
     "output_type": "stream",
     "text": [
      " 1.0 1.0\n",
      "\n",
      "Gravity(name=\"Gravity model\", deterrence_func_type=\"power_law\", deterrence_func_args=[-3.0], origin_exp=1.0, destination_exp=1.0, gravity_type=\"singly constrained\")\n",
      "  origin destination         flow\n",
      "0      1           2  2095.525248\n",
      "1      1           3  1057.272448\n",
      "2      1           4  1894.710102\n",
      "3      1           5  3680.310739\n",
      "4      1           6  1911.390545\n",
      "-2.5 0.1 0.1\n",
      "\n",
      "Gravity(name=\"Gravity model\", deterrence_func_type=\"power_law\", deterrence_func_args=[-2.5], origin_exp=0.1, destination_exp=0.1, gravity_type=\"singly constrained\")\n"
     ]
    },
    {
     "name": "stderr",
     "output_type": "stream",
     "text": [
      "100%|██████████████████████████████████████████████████████████████| 107/107 [00:00<00:00, 2548.45it/s]\n",
      "C:\\Users\\kostk\\.conda\\envs\\skmob\\lib\\site-packages\\skmob\\models\\gravity.py:43: RuntimeWarning: divide by zero encountered in power\n",
      "  return np.power(x, exponent)\n",
      "100%|██████████████████████████████████████████████████████████████| 107/107 [00:00<00:00, 2675.86it/s]\n",
      "C:\\Users\\kostk\\.conda\\envs\\skmob\\lib\\site-packages\\skmob\\models\\gravity.py:43: RuntimeWarning: divide by zero encountered in power\n",
      "  return np.power(x, exponent)\n"
     ]
    },
    {
     "name": "stdout",
     "output_type": "stream",
     "text": [
      "  origin destination         flow\n",
      "0      1           2  3043.272365\n",
      "1      1           3  1487.178296\n",
      "2      1           4  2874.098405\n",
      "3      1           5  4117.310723\n",
      "4      1           6  1454.557761\n",
      "-2.5 0.1 1.0\n",
      "\n",
      "Gravity(name=\"Gravity model\", deterrence_func_type=\"power_law\", deterrence_func_args=[-2.5], origin_exp=0.1, destination_exp=1.0, gravity_type=\"singly constrained\")\n",
      "  origin destination         flow\n",
      "0      1           2  1608.813302\n",
      "1      1           3   940.424697\n",
      "2      1           4  1470.301738\n",
      "3      1           5  2671.907428\n",
      "4      1           6  1731.889795\n",
      "-2.5"
     ]
    },
    {
     "name": "stderr",
     "output_type": "stream",
     "text": [
      "100%|██████████████████████████████████████████████████████████████| 107/107 [00:00<00:00, 2744.41it/s]\n",
      "C:\\Users\\kostk\\.conda\\envs\\skmob\\lib\\site-packages\\skmob\\models\\gravity.py:43: RuntimeWarning: divide by zero encountered in power\n",
      "  return np.power(x, exponent)\n",
      "  0%|                                                                          | 0/107 [00:00<?, ?it/s]"
     ]
    },
    {
     "name": "stdout",
     "output_type": "stream",
     "text": [
      " 1.0 0.1\n",
      "\n",
      "Gravity(name=\"Gravity model\", deterrence_func_type=\"power_law\", deterrence_func_args=[-2.5], origin_exp=1.0, destination_exp=0.1, gravity_type=\"singly constrained\")\n",
      "  origin destination         flow\n",
      "0      1           2  3043.272365\n",
      "1      1           3  1487.178296\n",
      "2      1           4  2874.098405\n",
      "3      1           5  4117.310723\n",
      "4      1           6  1454.557761\n",
      "-2.5 1.0 1.0\n",
      "\n",
      "Gravity(name=\"Gravity model\", deterrence_func_type=\"power_law\", deterrence_func_args=[-2.5], origin_exp=1.0, destination_exp=1.0, gravity_type=\"singly constrained\")\n"
     ]
    },
    {
     "name": "stderr",
     "output_type": "stream",
     "text": [
      "100%|██████████████████████████████████████████████████████████████| 107/107 [00:00<00:00, 2892.87it/s]\n",
      "C:\\Users\\kostk\\.conda\\envs\\skmob\\lib\\site-packages\\skmob\\models\\gravity.py:43: RuntimeWarning: divide by zero encountered in power\n",
      "  return np.power(x, exponent)\n",
      "100%|██████████████████████████████████████████████████████████████| 107/107 [00:00<00:00, 3567.80it/s]\n",
      "C:\\Users\\kostk\\.conda\\envs\\skmob\\lib\\site-packages\\skmob\\models\\gravity.py:43: RuntimeWarning: divide by zero encountered in power\n",
      "  return np.power(x, exponent)\n"
     ]
    },
    {
     "name": "stdout",
     "output_type": "stream",
     "text": [
      "  origin destination         flow\n",
      "0      1           2  1608.813302\n",
      "1      1           3   940.424697\n",
      "2      1           4  1470.301738\n",
      "3      1           5  2671.907428\n",
      "4      1           6  1731.889795\n",
      "-2.0 0.1 0.1\n",
      "\n",
      "Gravity(name=\"Gravity model\", deterrence_func_type=\"power_law\", deterrence_func_args=[-2.0], origin_exp=0.1, destination_exp=0.1, gravity_type=\"singly constrained\")\n",
      "  origin destination         flow\n",
      "0      1           2  2454.628597\n",
      "1      1           3  1389.736187\n",
      "2      1           4  2343.136288\n",
      "3      1           5  3140.384162\n",
      "4      1           6  1384.630865\n",
      "-2.0 0.1 1.0\n",
      "\n",
      "Gravity(name=\"Gravity model\", deterrence_func_type=\"power_law\", deterrence_func_args=[-2.0], origin_exp=0.1, destination_exp=1.0, gravity_type=\"singly constrained\")\n"
     ]
    },
    {
     "name": "stderr",
     "output_type": "stream",
     "text": [
      "100%|██████████████████████████████████████████████████████████████| 107/107 [00:00<00:00, 3344.81it/s]\n",
      "C:\\Users\\kostk\\.conda\\envs\\skmob\\lib\\site-packages\\skmob\\models\\gravity.py:43: RuntimeWarning: divide by zero encountered in power\n",
      "  return np.power(x, exponent)\n",
      "100%|██████████████████████████████████████████████████████████████| 107/107 [00:00<00:00, 3058.18it/s]\n",
      "C:\\Users\\kostk\\.conda\\envs\\skmob\\lib\\site-packages\\skmob\\models\\gravity.py:43: RuntimeWarning: divide by zero encountered in power\n",
      "  return np.power(x, exponent)\n",
      "  0%|                                                                          | 0/107 [00:00<?, ?it/s]"
     ]
    },
    {
     "name": "stdout",
     "output_type": "stream",
     "text": [
      "  origin destination         flow\n",
      "0      1           2  1137.518974\n",
      "1      1           3   770.373592\n",
      "2      1           4  1050.776667\n",
      "3      1           5  1786.481717\n",
      "4      1           6  1445.211215\n",
      "-2.0 1.0 0.1\n",
      "\n",
      "Gravity(name=\"Gravity model\", deterrence_func_type=\"power_law\", deterrence_func_args=[-2.0], origin_exp=1.0, destination_exp=0.1, gravity_type=\"singly constrained\")\n",
      "  origin destination         flow\n",
      "0      1           2  2454.628597\n",
      "1      1           3  1389.736187\n",
      "2      1           4  2343.136288\n",
      "3      1           5  3140.384162\n",
      "4      1           6  1384.630865\n",
      "-2.0 1.0 1.0\n",
      "\n",
      "Gravity(name=\"Gravity model\", deterrence_func_type=\"power_law\", deterrence_func_args=[-2.0], origin_exp=1.0, destination_exp=1.0, gravity_type=\"singly constrained\")\n"
     ]
    },
    {
     "name": "stderr",
     "output_type": "stream",
     "text": [
      "100%|██████████████████████████████████████████████████████████████| 107/107 [00:00<00:00, 3567.69it/s]\n",
      "C:\\Users\\kostk\\.conda\\envs\\skmob\\lib\\site-packages\\skmob\\models\\gravity.py:43: RuntimeWarning: divide by zero encountered in power\n",
      "  return np.power(x, exponent)\n",
      "100%|██████████████████████████████████████████████████████████████| 107/107 [00:00<00:00, 2744.56it/s]\n",
      "C:\\Users\\kostk\\.conda\\envs\\skmob\\lib\\site-packages\\skmob\\models\\gravity.py:43: RuntimeWarning: divide by zero encountered in power\n",
      "  return np.power(x, exponent)\n"
     ]
    },
    {
     "name": "stdout",
     "output_type": "stream",
     "text": [
      "  origin destination         flow\n",
      "0      1           2  1137.518974\n",
      "1      1           3   770.373592\n",
      "2      1           4  1050.776667\n",
      "3      1           5  1786.481717\n",
      "4      1           6  1445.211215\n",
      "-1.5 0.1 0.1\n",
      "\n",
      "Gravity(name=\"Gravity model\", deterrence_func_type=\"power_law\", deterrence_func_args=[-1.5], origin_exp=0.1, destination_exp=0.1, gravity_type=\"singly constrained\")\n",
      "  origin destination         flow\n",
      "0      1           2  1781.900138\n",
      "1      1           3  1168.837935\n",
      "2      1           4  1719.277861\n",
      "3      1           5  2155.780395\n",
      "4      1           6  1186.286667\n",
      "-1.5"
     ]
    },
    {
     "name": "stderr",
     "output_type": "stream",
     "text": [
      "100%|██████████████████████████████████████████████████████████████| 107/107 [00:00<00:00, 2610.66it/s]\n",
      "C:\\Users\\kostk\\.conda\\envs\\skmob\\lib\\site-packages\\skmob\\models\\gravity.py:43: RuntimeWarning: divide by zero encountered in power\n",
      "  return np.power(x, exponent)\n",
      "  0%|                                                                          | 0/107 [00:00<?, ?it/s]"
     ]
    },
    {
     "name": "stdout",
     "output_type": "stream",
     "text": [
      " 0.1 1.0\n",
      "\n",
      "Gravity(name=\"Gravity model\", deterrence_func_type=\"power_law\", deterrence_func_args=[-1.5], origin_exp=0.1, destination_exp=1.0, gravity_type=\"singly constrained\")\n",
      "  origin destination         flow\n",
      "0      1           2   727.784593\n",
      "1      1           3   571.044504\n",
      "2      1           4   679.525217\n",
      "3      1           5  1080.853796\n",
      "4      1           6  1091.273479\n",
      "-1.5 1.0 0.1\n",
      "\n",
      "Gravity(name=\"Gravity model\", deterrence_func_type=\"power_law\", deterrence_func_args=[-1.5], origin_exp=1.0, destination_exp=0.1, gravity_type=\"singly constrained\")\n"
     ]
    },
    {
     "name": "stderr",
     "output_type": "stream",
     "text": [
      "100%|██████████████████████████████████████████████████████████████| 107/107 [00:00<00:00, 3101.65it/s]\n",
      "C:\\Users\\kostk\\.conda\\envs\\skmob\\lib\\site-packages\\skmob\\models\\gravity.py:43: RuntimeWarning: divide by zero encountered in power\n",
      "  return np.power(x, exponent)\n",
      "100%|██████████████████████████████████████████████████████████████| 107/107 [00:00<00:00, 2734.46it/s]\n",
      "C:\\Users\\kostk\\.conda\\envs\\skmob\\lib\\site-packages\\skmob\\models\\gravity.py:43: RuntimeWarning: divide by zero encountered in power\n",
      "  return np.power(x, exponent)\n"
     ]
    },
    {
     "name": "stdout",
     "output_type": "stream",
     "text": [
      "  origin destination         flow\n",
      "0      1           2  1781.900138\n",
      "1      1           3  1168.837935\n",
      "2      1           4  1719.277861\n",
      "3      1           5  2155.780395\n",
      "4      1           6  1186.286667\n",
      "-1.5 1.0 1.0\n",
      "\n",
      "Gravity(name=\"Gravity model\", deterrence_func_type=\"power_law\", deterrence_func_args=[-1.5], origin_exp=1.0, destination_exp=1.0, gravity_type=\"singly constrained\")\n",
      "  origin destination         flow\n",
      "0      1           2   727.784593\n",
      "1      1           3   571.044504\n",
      "2      1           4   679.525217\n",
      "3      1           5  1080.853796\n",
      "4      1           6  1091.273479\n"
     ]
    }
   ],
   "source": [
    "import os\n",
    "fdf = skmob.FlowDataFrame.from_file(out_Origin_Dest_Flows_Path_January_1,\n",
    "                                    tessellation=tessellation,\n",
    "\t\t\t\t                    tile_id='tile_ID',\n",
    "                                    datetime = 'date',\n",
    "                                    origin = 'origin',\n",
    "                                    destination = 'destination',\n",
    "                                    flow = 'flow',\n",
    "\t\t\t\t                    sep=\",\")\n",
    "# print(fdf.head())\n",
    "tot_outflows = fdf[fdf['origin'] != fdf['destination']].groupby(by='origin', axis=0)['flow'].sum().fillna(0).values\n",
    "tessellation[constants.TOT_OUTFLOW] = tot_outflows\n",
    "print(tessellation.head())\n",
    "\n",
    "x_range = np.arange(-8,-1,.5).tolist()\n",
    "x_range = [ round(elem, 2) for elem in x_range ]\n",
    "y_range = [0.1,1.0]\n",
    "z_range = [0.1,1.0]\n",
    "# y_range = np.arange(0.1,1,0.5).tolist()\n",
    "# y_range = [ round(elem, 2) for elem in y_range ]\n",
    "\n",
    "directory = \"synthetic_flows\\\\generated\"\n",
    "for f in os.listdir(directory):\n",
    "    os.remove(os.path.join(directory, f))\n",
    "\n",
    "for x in x_range:\n",
    "    for y in y_range:\n",
    "        for z in z_range:\n",
    "            print(x,y,z)\n",
    "            gravity_singly = Gravity(gravity_type='singly constrained', deterrence_func_type=\"power_law\", deterrence_func_args=[x], origin_exp=y, destination_exp=z)\n",
    "            print()\n",
    "            print(gravity_singly)\n",
    "            synth_fdf = gravity_singly.generate(tessellation,\n",
    "                                            tile_id_column='tile_ID',\n",
    "                                            tot_outflows_column='tot_outflow',\n",
    "                                            relevance_column= 'population',\n",
    "                                            out_format='flows')\n",
    "            print(synth_fdf.head())\n",
    "\n",
    "            synth_fdf.to_csv(\"synthetic_flows\\\\generated\\\\flow_singly_\"+str(x)+\"_\"+str(y)+\"_\"+str(z)+\".csv\", index = False)        \n"
   ]
  },
  {
   "cell_type": "code",
   "execution_count": 15,
   "metadata": {},
   "outputs": [
    {
     "name": "stdout",
     "output_type": "stream",
     "text": [
      "flow_singly_-1.5_0.1_0.1.csv,0.7328978529183029\n",
      "\n",
      "flow_singly_-1.5_0.1_1.0.csv,0.7516093215834345\n",
      "\n",
      "flow_singly_-1.5_1.0_0.1.csv,0.7328978529183029\n",
      "\n",
      "flow_singly_-1.5_1.0_1.0.csv,0.7516093215834345\n",
      "\n",
      "flow_singly_-2.0_0.1_0.1.csv,0.6675261016909536\n",
      "\n",
      "flow_singly_-2.0_0.1_1.0.csv,0.6913858880210655\n",
      "\n",
      "flow_singly_-2.0_1.0_0.1.csv,0.6675261016909536\n",
      "\n",
      "flow_singly_-2.0_1.0_1.0.csv,0.6913858880210655\n",
      "\n",
      "flow_singly_-2.5_0.1_0.1.csv,0.6255818872667281\n",
      "\n",
      "flow_singly_-2.5_0.1_1.0.csv,0.6471705540122283\n",
      "\n",
      "flow_singly_-2.5_1.0_0.1.csv,0.6255818872667281\n",
      "\n",
      "flow_singly_-2.5_1.0_1.0.csv,0.6471705540122283\n",
      "\n",
      "flow_singly_-3.0_0.1_0.1.csv,0.6109197226623075\n",
      "\n",
      "flow_singly_-3.0_0.1_1.0.csv,0.6219025743532551\n",
      "\n",
      "flow_singly_-3.0_1.0_0.1.csv,0.6109197226623075\n",
      "\n",
      "flow_singly_-3.0_1.0_1.0.csv,0.6219025743532551\n",
      "\n",
      "flow_singly_-3.5_0.1_0.1.csv,0.6057171794031798\n",
      "\n"
     ]
    },
    {
     "ename": "KeyboardInterrupt",
     "evalue": "",
     "output_type": "error",
     "traceback": [
      "\u001b[1;31m---------------------------------------------------------------------------\u001b[0m",
      "\u001b[1;31mKeyboardInterrupt\u001b[0m                         Traceback (most recent call last)",
      "\u001b[1;32m<ipython-input-15-4555706c9bac>\u001b[0m in \u001b[0;36m<module>\u001b[1;34m\u001b[0m\n\u001b[0;32m      6\u001b[0m     \u001b[0mdf2\u001b[0m \u001b[1;33m=\u001b[0m \u001b[0mpd\u001b[0m\u001b[1;33m.\u001b[0m\u001b[0mread_csv\u001b[0m\u001b[1;33m(\u001b[0m\u001b[0mos\u001b[0m\u001b[1;33m.\u001b[0m\u001b[0mpath\u001b[0m\u001b[1;33m.\u001b[0m\u001b[0mjoin\u001b[0m\u001b[1;33m(\u001b[0m\u001b[0mdirectory\u001b[0m\u001b[1;33m,\u001b[0m\u001b[0mfilename\u001b[0m\u001b[1;33m)\u001b[0m\u001b[1;33m)\u001b[0m\u001b[1;33m\u001b[0m\u001b[1;33m\u001b[0m\u001b[0m\n\u001b[0;32m      7\u001b[0m     \u001b[0mdf2\u001b[0m \u001b[1;33m=\u001b[0m \u001b[0mdf2\u001b[0m\u001b[1;33m.\u001b[0m\u001b[0mastype\u001b[0m\u001b[1;33m(\u001b[0m\u001b[0mint\u001b[0m\u001b[1;33m)\u001b[0m\u001b[1;33m\u001b[0m\u001b[1;33m\u001b[0m\u001b[0m\n\u001b[1;32m----> 8\u001b[1;33m     \u001b[0mLOD\u001b[0m\u001b[1;33m,\u001b[0m\u001b[0mNLOD\u001b[0m \u001b[1;33m=\u001b[0m \u001b[0mLv\u001b[0m\u001b[1;33m.\u001b[0m\u001b[0mcalculateLOD\u001b[0m\u001b[1;33m(\u001b[0m\u001b[0mdf1\u001b[0m\u001b[1;33m,\u001b[0m\u001b[0mdf2\u001b[0m\u001b[1;33m)\u001b[0m\u001b[1;33m\u001b[0m\u001b[1;33m\u001b[0m\u001b[0m\n\u001b[0m\u001b[0;32m      9\u001b[0m     \u001b[0mmNLOD\u001b[0m \u001b[1;33m=\u001b[0m \u001b[0mLv\u001b[0m\u001b[1;33m.\u001b[0m\u001b[0mcalculateMean\u001b[0m\u001b[1;33m(\u001b[0m\u001b[0mNLOD\u001b[0m\u001b[1;33m)\u001b[0m\u001b[1;33m\u001b[0m\u001b[1;33m\u001b[0m\u001b[0m\n\u001b[0;32m     10\u001b[0m     \u001b[0mtxt\u001b[0m \u001b[1;33m+=\u001b[0m \u001b[0mfilename\u001b[0m\u001b[1;33m+\u001b[0m\u001b[1;34m\",\"\u001b[0m\u001b[1;33m+\u001b[0m\u001b[0mstr\u001b[0m\u001b[1;33m(\u001b[0m\u001b[0mmNLOD\u001b[0m\u001b[1;33m)\u001b[0m\u001b[1;33m+\u001b[0m\u001b[1;34m\"\\n\"\u001b[0m\u001b[1;33m\u001b[0m\u001b[1;33m\u001b[0m\u001b[0m\n",
      "\u001b[1;32m~\\Documents\\Diplomatiki\\Covid_Italy\\Levenshtein.py\u001b[0m in \u001b[0;36mcalculateLOD\u001b[1;34m(df1, df2)\u001b[0m\n\u001b[0;32m     79\u001b[0m                 \u001b[1;32melse\u001b[0m\u001b[1;33m:\u001b[0m\u001b[1;33m\u001b[0m\u001b[1;33m\u001b[0m\u001b[0m\n\u001b[0;32m     80\u001b[0m                     \u001b[0mCost\u001b[0m \u001b[1;33m=\u001b[0m \u001b[0mabs\u001b[0m\u001b[1;33m(\u001b[0m\u001b[0mAx\u001b[0m \u001b[1;33m+\u001b[0m \u001b[0mAy\u001b[0m\u001b[1;33m)\u001b[0m\u001b[1;33m\u001b[0m\u001b[1;33m\u001b[0m\u001b[0m\n\u001b[1;32m---> 81\u001b[1;33m                 \u001b[0mL\u001b[0m\u001b[1;33m[\u001b[0m\u001b[0mrow\u001b[0m\u001b[1;33m]\u001b[0m\u001b[1;33m[\u001b[0m\u001b[0mcolumn\u001b[0m\u001b[1;33m]\u001b[0m \u001b[1;33m=\u001b[0m \u001b[0mmin\u001b[0m\u001b[1;33m(\u001b[0m\u001b[0mL\u001b[0m\u001b[1;33m[\u001b[0m\u001b[0mrow\u001b[0m\u001b[1;33m-\u001b[0m\u001b[1;36m1\u001b[0m\u001b[1;33m]\u001b[0m\u001b[1;33m[\u001b[0m\u001b[0mcolumn\u001b[0m\u001b[1;33m]\u001b[0m\u001b[1;33m+\u001b[0m\u001b[0mAy\u001b[0m\u001b[1;33m,\u001b[0m \u001b[0mL\u001b[0m\u001b[1;33m[\u001b[0m\u001b[0mrow\u001b[0m\u001b[1;33m]\u001b[0m\u001b[1;33m[\u001b[0m\u001b[0mcolumn\u001b[0m\u001b[1;33m-\u001b[0m\u001b[1;36m1\u001b[0m\u001b[1;33m]\u001b[0m\u001b[1;33m+\u001b[0m\u001b[0mAx\u001b[0m\u001b[1;33m,\u001b[0m\u001b[0mL\u001b[0m\u001b[1;33m[\u001b[0m\u001b[0mrow\u001b[0m\u001b[1;33m-\u001b[0m\u001b[1;36m1\u001b[0m\u001b[1;33m]\u001b[0m\u001b[1;33m[\u001b[0m\u001b[0mcolumn\u001b[0m\u001b[1;33m-\u001b[0m\u001b[1;36m1\u001b[0m\u001b[1;33m]\u001b[0m\u001b[1;33m+\u001b[0m\u001b[0mCost\u001b[0m\u001b[1;33m)\u001b[0m\u001b[1;33m\u001b[0m\u001b[1;33m\u001b[0m\u001b[0m\n\u001b[0m\u001b[0;32m     82\u001b[0m         \u001b[1;31m# Calculate LOD, NLOD\u001b[0m\u001b[1;33m\u001b[0m\u001b[1;33m\u001b[0m\u001b[1;33m\u001b[0m\u001b[0m\n\u001b[0;32m     83\u001b[0m         \u001b[0mLOD\u001b[0m\u001b[1;33m[\u001b[0m\u001b[0mN\u001b[0m\u001b[1;33m-\u001b[0m\u001b[1;36m1\u001b[0m\u001b[1;33m]\u001b[0m    \u001b[1;33m=\u001b[0m   \u001b[0mL\u001b[0m\u001b[1;33m[\u001b[0m\u001b[0mmaxValue\u001b[0m\u001b[1;33m]\u001b[0m\u001b[1;33m[\u001b[0m\u001b[0mmaxValue\u001b[0m\u001b[1;33m]\u001b[0m\u001b[1;33m\u001b[0m\u001b[1;33m\u001b[0m\u001b[0m\n",
      "\u001b[1;31mKeyboardInterrupt\u001b[0m: "
     ]
    }
   ],
   "source": [
    "import os\n",
    "df1 = pd.read_csv(out_Origin_Dest_Flows_Path_January_1)\n",
    "directory = \"synthetic_flows\\\\generated\"\n",
    "txt = \"filename,mNLOD\\n\"\n",
    "for filename in os.listdir(directory):\n",
    "    df2 = pd.read_csv(os.path.join(directory,filename))\n",
    "    df2 = df2.astype(int)\n",
    "    LOD,NLOD = Lv.calculateLOD(df1,df2)\n",
    "    mNLOD = Lv.calculateMean(NLOD)\n",
    "    txt += filename+\",\"+str(mNLOD)+\"\\n\"\n",
    "    print(filename+\",\"+str(mNLOD)+\"\\n\")\n",
    "print(txt)"
   ]
  },
  {
   "cell_type": "code",
   "execution_count": null,
   "metadata": {},
   "outputs": [],
   "source": []
  }
 ],
 "metadata": {
  "kernelspec": {
   "display_name": "Python [conda env: skmob]",
   "language": "python",
   "name": "skmob"
  },
  "language_info": {
   "codemirror_mode": {
    "name": "ipython",
    "version": 3
   },
   "file_extension": ".py",
   "mimetype": "text/x-python",
   "name": "python",
   "nbconvert_exporter": "python",
   "pygments_lexer": "ipython3",
   "version": "3.7.9-final"
  }
 },
 "nbformat": 4,
 "nbformat_minor": 4
}