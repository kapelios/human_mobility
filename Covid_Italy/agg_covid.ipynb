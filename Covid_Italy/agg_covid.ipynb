{
 "metadata": {
  "language_info": {
   "codemirror_mode": {
    "name": "ipython",
    "version": 3
   },
   "file_extension": ".py",
   "mimetype": "text/x-python",
   "name": "python",
   "nbconvert_exporter": "python",
   "pygments_lexer": "ipython3",
   "version": "3.7.9-final"
  },
  "orig_nbformat": 2,
  "kernelspec": {
   "name": "skmob",
   "display_name": "Python [conda env: skmob]",
   "language": "python"
  }
 },
 "nbformat": 4,
 "nbformat_minor": 2,
 "cells": [
  {
   "cell_type": "code",
   "execution_count": 1,
   "metadata": {},
   "outputs": [
    {
     "output_type": "stream",
     "name": "stdout",
     "text": [
      "         Date  TotalPositiveCases\n0  2020-02-24                   0\n1  2020-02-24                   0\n2  2020-02-24                   0\n3  2020-02-24                   0\n5  2020-02-24                   0\n            TotalPositiveCases\nDate                          \n2020-02-24                   0\n2020-02-25                 312\n2020-02-26                 370\n2020-02-27                 625\n2020-02-28                 826\n...                        ...\n2020-05-29              228910\n2020-05-30              229297\n2020-05-31              229651\n2020-06-01              229822\n2020-06-02              230129\n\n[100 rows x 1 columns]\n"
     ]
    }
   ],
   "source": [
    "import pandas as pd\n",
    "import datetime as DT\n",
    "# Group covid cases weekly\n",
    "\n",
    "covid_cases_path = \"input\\\\Italy_Covid_Data_Province.csv\"\n",
    "\n",
    "cov_df = pd.read_csv(covid_cases_path)\n",
    "cov_df['ProvinceCode'] = cov_df ['ProvinceCode'].astype(int)\n",
    "cov_df['Date'] = cov_df['Date'].astype('datetime64[ns]')\n",
    "cov_df['Date'] = pd.to_datetime(cov_df['Date']).dt.date\n",
    "\n",
    "regMask = cov_df[\"ProvinceCode\"] <= 111\n",
    "cov_df_prov = cov_df.loc[regMask]\n",
    "\n",
    "\n",
    "cov_df_prov = cov_df_prov[['Date','TotalPositiveCases']]\n",
    "print(cov_df_prov.head())\n",
    "cov_df_prov = cov_df_prov.groupby('Date').sum()\n",
    "print(cov_df_prov.head(100))\n",
    "prev = 0\n",
    "# print(cov_df_prov.head(100))\n",
    "for index, row in cov_df_prov.iterrows():\n",
    "    temp = row[0]\n",
    "    row[0] -= prev\n",
    "    prev = temp\n",
    "    # print(row[0])\n",
    "# print(cov_df_prov.head(100))\n",
    "\n",
    "cov_df_prov = cov_df_prov.reset_index()\n",
    "startDate = DT.date(2020,6,8)\n",
    "tempTXT = \"startDate,endDate,totalCases\\n\"\n",
    "lw = 0\n",
    "count = 0\n",
    "for x in range(25):\n",
    "    week_end = startDate + DT.timedelta(days = 6)\n",
    "    # print(startDate,week_end)\n",
    "    mask = (cov_df_prov['Date']>=startDate) & (cov_df_prov['Date']<=week_end)\n",
    "    cov_week = cov_df_prov.loc[mask]\n",
    "\n",
    "\n",
    "    temp = cov_week['TotalPositiveCases'].sum()\n",
    "    tw = temp\n",
    "    # lw = temp\n",
    "    # tw = tw - lw\n",
    "    # lw = cov_week['TotalPositiveCases'].sum()\n",
    "    # tw = max(0,tw)\n",
    "    if count != 0:\n",
    "        tempTXT += startDate.strftime(\"%d/%m\")+\",\"+week_end.strftime(\"%d/%m\")+\",\"+str(tw)+\"\\n\"\n",
    "    count += 1\n",
    "    # print(temp_cases)\n",
    "    startDate = startDate + DT.timedelta(days = 7)\n",
    "# print(tempTXT)\n",
    "dates_file = open(\"output\\\\aggregated_Covid_Cases_after_dataset.csv\", \"w\")\n",
    "dates_file.write(tempTXT)\n",
    "dates_file.close()"
   ]
  },
  {
   "cell_type": "code",
   "execution_count": null,
   "metadata": {},
   "outputs": [],
   "source": []
  }
 ]
}